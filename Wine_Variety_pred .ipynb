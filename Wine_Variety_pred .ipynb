{
  "nbformat": 4,
  "nbformat_minor": 0,
  "metadata": {
    "colab": {
      "name": "Wine_Variety_pred.ipynb",
      "provenance": []
    },
    "kernelspec": {
      "name": "python3",
      "display_name": "Python 3"
    },
    "accelerator": "GPU"
  },
  "cells": [
    {
      "cell_type": "code",
      "metadata": {
        "id": "-saSf41mY9ee",
        "colab_type": "code",
        "colab": {}
      },
      "source": [
        "\n",
        "from tensorflow.keras.layers import AveragePooling2D\n",
        "from tensorflow.keras.layers import Dropout\n",
        "from tensorflow.keras.layers import Flatten\n",
        "from tensorflow.keras.layers import Dense\n",
        "from tensorflow.keras.layers import Input\n",
        "from tensorflow.keras.models import Model\n",
        "from tensorflow.keras.optimizers import Adam\n",
        "from tensorflow.keras.preprocessing.image import img_to_array\n",
        "from tensorflow.keras.preprocessing.image import load_img\n",
        "from tensorflow.keras.utils import to_categorical\n",
        "from sklearn.preprocessing import LabelEncoder\n",
        "from nltk.corpus import stopwords\n",
        "import re\n",
        "from sklearn.feature_extraction.text import CountVectorizer\n",
        "from sklearn.model_selection import train_test_split\n",
        "from keras.models import Sequential\n",
        "from keras.layers import Dense\n",
        "\n",
        "from sklearn.model_selection import train_test_split\n",
        "from sklearn.metrics import classification_report\n",
        "from imutils import paths\n",
        "import matplotlib.pyplot as plt\n",
        "import numpy as np\n",
        "import argparse\n",
        "import os\n",
        "import pandas as pd\n",
        "import seaborn as sns\n"
      ],
      "execution_count": 0,
      "outputs": []
    },
    {
      "cell_type": "code",
      "metadata": {
        "id": "vS4jPS5ItqTT",
        "colab_type": "code",
        "colab": {}
      },
      "source": [
        "import matplotlib.pyplot as plt\n",
        "%matplotlib inline\n",
        "\n",
        "# sklearn packages\n",
        "from sklearn import metrics\n",
        "from sklearn.feature_extraction.text import TfidfVectorizer, CountVectorizer\n",
        "from sklearn.model_selection import train_test_split, GridSearchCV, cross_val_score, StratifiedKFold\n",
        "from sklearn.pipeline import Pipeline, FeatureUnion\n",
        "from sklearn.preprocessing import FunctionTransformer, StandardScaler\n",
        "from sklearn.base import BaseEstimator, TransformerMixin\n",
        "from sklearn.neighbors import KNeighborsClassifier\n",
        "from sklearn.tree import DecisionTreeClassifier\n",
        "from sklearn.ensemble import RandomForestClassifier, AdaBoostClassifier\n",
        "from sklearn.naive_bayes import MultinomialNB\n",
        "from sklearn.dummy import DummyClassifier\n",
        "from xgboost import XGBClassifier\n",
        "\n",
        "# nltk packages\n",
        "import nltk\n",
        "from nltk import word_tokenize\n",
        "from nltk.stem import WordNetLemmatizer \n",
        "from nltk.corpus import stopwords\n",
        "from string import punctuation\n",
        "import unidecode"
      ],
      "execution_count": 0,
      "outputs": []
    },
    {
      "cell_type": "code",
      "metadata": {
        "id": "Puf8DOstpXpN",
        "colab_type": "code",
        "outputId": "2ee9dd21-1100-4db5-f2c7-7bd7ce8adc0e",
        "colab": {
          "base_uri": "https://localhost:8080/",
          "height": 122
        }
      },
      "source": [
        "from google.colab import drive\n",
        "drive.mount('/content/drive')"
      ],
      "execution_count": 2,
      "outputs": [
        {
          "output_type": "stream",
          "text": [
            "Go to this URL in a browser: https://accounts.google.com/o/oauth2/auth?client_id=947318989803-6bn6qk8qdgf4n4g3pfee6491hc0brc4i.apps.googleusercontent.com&redirect_uri=urn%3aietf%3awg%3aoauth%3a2.0%3aoob&response_type=code&scope=email%20https%3a%2f%2fwww.googleapis.com%2fauth%2fdocs.test%20https%3a%2f%2fwww.googleapis.com%2fauth%2fdrive%20https%3a%2f%2fwww.googleapis.com%2fauth%2fdrive.photos.readonly%20https%3a%2f%2fwww.googleapis.com%2fauth%2fpeopleapi.readonly\n",
            "\n",
            "Enter your authorization code:\n",
            "··········\n",
            "Mounted at /content/drive\n"
          ],
          "name": "stdout"
        }
      ]
    },
    {
      "cell_type": "code",
      "metadata": {
        "id": "SKneHHIoZDGp",
        "colab_type": "code",
        "colab": {
          "base_uri": "https://localhost:8080/",
          "height": 340
        },
        "outputId": "fe4155ef-4bf0-49a1-c67e-1383cefa375f"
      },
      "source": [
        "train_df = pd.read_csv(\"drive/My Drive/Knight/Data/train.csv\")\n",
        "train_df.head()\n"
      ],
      "execution_count": 3,
      "outputs": [
        {
          "output_type": "execute_result",
          "data": {
            "text/html": [
              "<div>\n",
              "<style scoped>\n",
              "    .dataframe tbody tr th:only-of-type {\n",
              "        vertical-align: middle;\n",
              "    }\n",
              "\n",
              "    .dataframe tbody tr th {\n",
              "        vertical-align: top;\n",
              "    }\n",
              "\n",
              "    .dataframe thead th {\n",
              "        text-align: right;\n",
              "    }\n",
              "</style>\n",
              "<table border=\"1\" class=\"dataframe\">\n",
              "  <thead>\n",
              "    <tr style=\"text-align: right;\">\n",
              "      <th></th>\n",
              "      <th>user_name</th>\n",
              "      <th>country</th>\n",
              "      <th>review_title</th>\n",
              "      <th>review_description</th>\n",
              "      <th>designation</th>\n",
              "      <th>points</th>\n",
              "      <th>price</th>\n",
              "      <th>province</th>\n",
              "      <th>region_1</th>\n",
              "      <th>region_2</th>\n",
              "      <th>winery</th>\n",
              "      <th>variety</th>\n",
              "    </tr>\n",
              "  </thead>\n",
              "  <tbody>\n",
              "    <tr>\n",
              "      <th>0</th>\n",
              "      <td>NaN</td>\n",
              "      <td>Australia</td>\n",
              "      <td>Andrew Peace 2007 Peace Family Vineyard Chardo...</td>\n",
              "      <td>Classic Chardonnay aromas of apple, pear and h...</td>\n",
              "      <td>Peace Family Vineyard</td>\n",
              "      <td>83</td>\n",
              "      <td>10.0</td>\n",
              "      <td>Australia Other</td>\n",
              "      <td>South Eastern Australia</td>\n",
              "      <td>NaN</td>\n",
              "      <td>Andrew Peace</td>\n",
              "      <td>Chardonnay</td>\n",
              "    </tr>\n",
              "    <tr>\n",
              "      <th>1</th>\n",
              "      <td>@wawinereport</td>\n",
              "      <td>US</td>\n",
              "      <td>North by Northwest 2014 Red (Columbia Valley (...</td>\n",
              "      <td>This wine is near equal parts Syrah and Merlot...</td>\n",
              "      <td>NaN</td>\n",
              "      <td>89</td>\n",
              "      <td>15.0</td>\n",
              "      <td>Washington</td>\n",
              "      <td>Columbia Valley (WA)</td>\n",
              "      <td>Columbia Valley</td>\n",
              "      <td>North by Northwest</td>\n",
              "      <td>Red Blend</td>\n",
              "    </tr>\n",
              "    <tr>\n",
              "      <th>2</th>\n",
              "      <td>NaN</td>\n",
              "      <td>Italy</td>\n",
              "      <td>Renato Ratti 2007 Conca  (Barolo)</td>\n",
              "      <td>Barolo Conca opens with inky dark concentratio...</td>\n",
              "      <td>Conca</td>\n",
              "      <td>94</td>\n",
              "      <td>80.0</td>\n",
              "      <td>Piedmont</td>\n",
              "      <td>Barolo</td>\n",
              "      <td>NaN</td>\n",
              "      <td>Renato Ratti</td>\n",
              "      <td>Nebbiolo</td>\n",
              "    </tr>\n",
              "    <tr>\n",
              "      <th>3</th>\n",
              "      <td>@vossroger</td>\n",
              "      <td>France</td>\n",
              "      <td>Domaine l'Ancienne Cure 2010 L'Abbaye White (B...</td>\n",
              "      <td>It's impressive what a small addition of Sauvi...</td>\n",
              "      <td>L'Abbaye</td>\n",
              "      <td>87</td>\n",
              "      <td>22.0</td>\n",
              "      <td>Southwest France</td>\n",
              "      <td>Bergerac Sec</td>\n",
              "      <td>NaN</td>\n",
              "      <td>Domaine l'Ancienne Cure</td>\n",
              "      <td>Bordeaux-style White Blend</td>\n",
              "    </tr>\n",
              "    <tr>\n",
              "      <th>4</th>\n",
              "      <td>@vossroger</td>\n",
              "      <td>France</td>\n",
              "      <td>Château du Cèdre 2012 Le Cèdre Vintage Malbec ...</td>\n",
              "      <td>This ripe, sweet wine is rich and full of drie...</td>\n",
              "      <td>Le Cèdre Vintage</td>\n",
              "      <td>88</td>\n",
              "      <td>33.0</td>\n",
              "      <td>France Other</td>\n",
              "      <td>Vin de Liqueur</td>\n",
              "      <td>NaN</td>\n",
              "      <td>Château du Cèdre</td>\n",
              "      <td>Malbec</td>\n",
              "    </tr>\n",
              "  </tbody>\n",
              "</table>\n",
              "</div>"
            ],
            "text/plain": [
              "       user_name  ...                     variety\n",
              "0            NaN  ...                  Chardonnay\n",
              "1  @wawinereport  ...                   Red Blend\n",
              "2            NaN  ...                    Nebbiolo\n",
              "3     @vossroger  ...  Bordeaux-style White Blend\n",
              "4     @vossroger  ...                      Malbec\n",
              "\n",
              "[5 rows x 12 columns]"
            ]
          },
          "metadata": {
            "tags": []
          },
          "execution_count": 3
        }
      ]
    },
    {
      "cell_type": "code",
      "metadata": {
        "id": "R5dE6VEpCag3",
        "colab_type": "code",
        "colab": {
          "base_uri": "https://localhost:8080/",
          "height": 170
        },
        "outputId": "1cde1391-f077-4955-8e90-9830fd0944dd"
      },
      "source": [
        "train_df['variety'].unique()"
      ],
      "execution_count": 4,
      "outputs": [
        {
          "output_type": "execute_result",
          "data": {
            "text/plain": [
              "array(['Chardonnay', 'Red Blend', 'Nebbiolo',\n",
              "       'Bordeaux-style White Blend', 'Malbec', 'Cabernet Sauvignon',\n",
              "       'Zinfandel', 'Pinot Noir', 'Sauvignon Blanc', 'Gamay',\n",
              "       'Grüner Veltliner', 'Bordeaux-style Red Blend', 'Sangiovese',\n",
              "       'Syrah', 'White Blend', 'Cabernet Franc', 'Portuguese Red',\n",
              "       'Portuguese White', 'Rhône-style Red Blend', 'Rosé',\n",
              "       'Champagne Blend', 'Merlot', 'Riesling', 'Sparkling Blend',\n",
              "       'Pinot Grigio', 'Tempranillo', 'Pinot Gris', 'Gewürztraminer'],\n",
              "      dtype=object)"
            ]
          },
          "metadata": {
            "tags": []
          },
          "execution_count": 4
        }
      ]
    },
    {
      "cell_type": "code",
      "metadata": {
        "id": "d3nnysitCif_",
        "colab_type": "code",
        "colab": {
          "base_uri": "https://localhost:8080/",
          "height": 510
        },
        "outputId": "e03806b7-e93d-4f29-e27f-82fb552e9379"
      },
      "source": [
        "train_df['variety'].value_counts()"
      ],
      "execution_count": 9,
      "outputs": [
        {
          "output_type": "execute_result",
          "data": {
            "text/plain": [
              "Pinot Noir                    10587\n",
              "Chardonnay                     9403\n",
              "Cabernet Sauvignon             7552\n",
              "Red Blend                      7166\n",
              "Bordeaux-style Red Blend       5497\n",
              "Riesling                       4148\n",
              "Sauvignon Blanc                4011\n",
              "Syrah                          3316\n",
              "Rosé                           2831\n",
              "Merlot                         2471\n",
              "Nebbiolo                       2242\n",
              "Zinfandel                      2209\n",
              "Sangiovese                     2165\n",
              "Malbec                         2119\n",
              "Portuguese Red                 1969\n",
              "White Blend                    1896\n",
              "Sparkling Blend                1739\n",
              "Tempranillo                    1448\n",
              "Rhône-style Red Blend          1182\n",
              "Pinot Gris                     1148\n",
              "Champagne Blend                1133\n",
              "Cabernet Franc                 1095\n",
              "Grüner Veltliner               1055\n",
              "Portuguese White                896\n",
              "Pinot Grigio                    873\n",
              "Bordeaux-style White Blend      850\n",
              "Gewürztraminer                  840\n",
              "Gamay                           816\n",
              "Name: variety, dtype: int64"
            ]
          },
          "metadata": {
            "tags": []
          },
          "execution_count": 9
        }
      ]
    },
    {
      "cell_type": "code",
      "metadata": {
        "id": "W7ey0Wc4ZMa_",
        "colab_type": "code",
        "colab": {
          "base_uri": "https://localhost:8080/",
          "height": 238
        },
        "outputId": "f7fb4490-63cf-4087-992f-ed9f206f5f99"
      },
      "source": [
        "train_df.isnull().sum()\n"
      ],
      "execution_count": 8,
      "outputs": [
        {
          "output_type": "execute_result",
          "data": {
            "text/plain": [
              "user_name             19393\n",
              "country                  35\n",
              "review_title              0\n",
              "review_description        0\n",
              "designation           23647\n",
              "points                    0\n",
              "price                  5569\n",
              "province                 35\n",
              "region_1              12754\n",
              "region_2              46708\n",
              "winery                    0\n",
              "variety                   0\n",
              "dtype: int64"
            ]
          },
          "metadata": {
            "tags": []
          },
          "execution_count": 8
        }
      ]
    },
    {
      "cell_type": "code",
      "metadata": {
        "id": "pTCdlieHC7QR",
        "colab_type": "code",
        "colab": {}
      },
      "source": [
        "train_df.drop('user_name', axis=1, inplace=True)"
      ],
      "execution_count": 0,
      "outputs": []
    },
    {
      "cell_type": "code",
      "metadata": {
        "id": "evoaZmqbEiLg",
        "colab_type": "code",
        "colab": {
          "base_uri": "https://localhost:8080/",
          "height": 221
        },
        "outputId": "4b5b132a-b781-4e57-e093-428373c4c964"
      },
      "source": [
        "train_df['province'].value_counts()"
      ],
      "execution_count": 5,
      "outputs": [
        {
          "output_type": "execute_result",
          "data": {
            "text/plain": [
              "California         25736\n",
              "Washington          6060\n",
              "Bordeaux            4690\n",
              "Oregon              3900\n",
              "Tuscany             3780\n",
              "                   ...  \n",
              "Jidvei                 1\n",
              "Elim                   1\n",
              "Ticino                 1\n",
              "Piekenierskloof        1\n",
              "Santa Catarina         1\n",
              "Name: province, Length: 358, dtype: int64"
            ]
          },
          "metadata": {
            "tags": []
          },
          "execution_count": 5
        }
      ]
    },
    {
      "cell_type": "code",
      "metadata": {
        "id": "45CF_bGdEIve",
        "colab_type": "code",
        "colab": {}
      },
      "source": [
        ""
      ],
      "execution_count": 0,
      "outputs": []
    },
    {
      "cell_type": "code",
      "metadata": {
        "id": "hRTpZRwKZQrh",
        "colab_type": "code",
        "colab": {
          "base_uri": "https://localhost:8080/",
          "height": 1000
        },
        "outputId": "419d25b5-d09a-4b4e-927c-a8abe2e1f210"
      },
      "source": [
        "\n",
        "# Plot the frequency for every country_destination value\n",
        "plt.figure(figsize=(15,15))\n",
        "axx=sns.countplot(x='country', data=train_df, palette=\"husl\")\n",
        "axx.set_xticklabels(axx.get_xticklabels(), rotation=90, ha=\"right\")\n",
        "plt.tight_layout()\n",
        "plt.show()"
      ],
      "execution_count": 6,
      "outputs": [
        {
          "output_type": "display_data",
          "data": {
            "image/png": "[encoded data removed]",
            "text/plain": [
              "<Figure size 1080x1080 with 1 Axes>"
            ]
          },
          "metadata": {
            "tags": [],
            "needs_background": "light"
          }
        }
      ]
    },
    {
      "cell_type": "markdown",
      "metadata": {
        "id": "MhKdk5TdKBzt",
        "colab_type": "text"
      },
      "source": [
        "most are from usa, france,italy"
      ]
    },
    {
      "cell_type": "code",
      "metadata": {
        "id": "BTt9-zmELGt3",
        "colab_type": "code",
        "colab": {
          "base_uri": "https://localhost:8080/",
          "height": 1000
        },
        "outputId": "9255ab01-3d5f-470f-e32b-8776f7bf019c"
      },
      "source": [
        "plt.figure(figsize=(15,15))\n",
        "ax=sns.countplot(x='variety', data=train_df, palette=\"husl\")\n",
        "ax.set_xticklabels(ax.get_xticklabels(), rotation=90, ha=\"right\")\n",
        "plt.tight_layout()\n",
        "plt.show()"
      ],
      "execution_count": 27,
      "outputs": [
        {
          "output_type": "display_data",
          "data": {
            "image/png": "[encoded data removed]",
            "text/plain": [
              "<Figure size 1080x1080 with 1 Axes>"
            ]
          },
          "metadata": {
            "tags": [],
            "needs_background": "light"
          }
        }
      ]
    },
    {
      "cell_type": "code",
      "metadata": {
        "id": "lD9ZlrNqD8rq",
        "colab_type": "code",
        "colab": {
          "base_uri": "https://localhost:8080/",
          "height": 221
        },
        "outputId": "17be45a1-a661-4033-b3ff-8c420db0f120"
      },
      "source": [
        "train_df.dtypes"
      ],
      "execution_count": 14,
      "outputs": [
        {
          "output_type": "execute_result",
          "data": {
            "text/plain": [
              "country                object\n",
              "review_title           object\n",
              "review_description     object\n",
              "designation            object\n",
              "points                  int64\n",
              "price                 float64\n",
              "province               object\n",
              "region_1               object\n",
              "region_2               object\n",
              "winery                 object\n",
              "variety                object\n",
              "dtype: object"
            ]
          },
          "metadata": {
            "tags": []
          },
          "execution_count": 14
        }
      ]
    },
    {
      "cell_type": "code",
      "metadata": {
        "id": "j-SfBmVnjRPF",
        "colab_type": "code",
        "colab": {
          "base_uri": "https://localhost:8080/",
          "height": 884
        },
        "outputId": "0683edac-7267-4e6b-aa3d-232990594ee1"
      },
      "source": [
        "plt.figure(figsize=(15,15))\n",
        "sns.heatmap(train_df.corr(),color = \"k\", annot=True)"
      ],
      "execution_count": 12,
      "outputs": [
        {
          "output_type": "execute_result",
          "data": {
            "text/plain": [
              "<matplotlib.axes._subplots.AxesSubplot at 0x7f70f5062780>"
            ]
          },
          "metadata": {
            "tags": []
          },
          "execution_count": 12
        },
        {
          "output_type": "display_data",
          "data": {
            "image/png": "[encoded data removed]",
            "text/plain": [
              "<Figure size 1080x1080 with 2 Axes>"
            ]
          },
          "metadata": {
            "tags": [],
            "needs_background": "light"
          }
        }
      ]
    },
    {
      "cell_type": "code",
      "metadata": {
        "id": "bqg9Va360DAG",
        "colab_type": "code",
        "colab": {
          "base_uri": "https://localhost:8080/",
          "height": 389
        },
        "outputId": "8026963f-665e-4117-dc3f-f1475720107a"
      },
      "source": [
        "country=train_df.groupby('country').filter(lambda x: len(x) >100)\n",
        "\n",
        "df3 = pd.DataFrame({col:vals['price'] for col,vals in country.groupby('country')})\n",
        "meds2 = df3.median()\n",
        "meds2.sort_values(ascending=False, inplace=True)\n",
        "\n",
        "fig, ax = plt.subplots(figsize = (20,5))\n",
        "chart = sns.barplot(x='country',y='price', data=country, order=meds2.index, ax = ax)\n",
        "plt.xticks(rotation = 90)\n",
        "plt.show()"
      ],
      "execution_count": 7,
      "outputs": [
        {
          "output_type": "display_data",
          "data": {
            "image/png": "[encoded data removed]",
            "text/plain": [
              "<Figure size 1440x360 with 1 Axes>"
            ]
          },
          "metadata": {
            "tags": [],
            "needs_background": "light"
          }
        }
      ]
    },
    {
      "cell_type": "code",
      "metadata": {
        "id": "j184blmgjTgg",
        "colab_type": "code",
        "outputId": "86a4c25a-1017-4a5e-a56e-50b1b2481ca5",
        "colab": {
          "base_uri": "https://localhost:8080/",
          "height": 145
        }
      },
      "source": [
        "ds_cat = train_df.select_dtypes(include = 'object').copy()\n",
        "ds_cat.head(2)\n",
        "# categorical feat only"
      ],
      "execution_count": 8,
      "outputs": [
        {
          "output_type": "execute_result",
          "data": {
            "text/html": [
              "<div>\n",
              "<style scoped>\n",
              "    .dataframe tbody tr th:only-of-type {\n",
              "        vertical-align: middle;\n",
              "    }\n",
              "\n",
              "    .dataframe tbody tr th {\n",
              "        vertical-align: top;\n",
              "    }\n",
              "\n",
              "    .dataframe thead th {\n",
              "        text-align: right;\n",
              "    }\n",
              "</style>\n",
              "<table border=\"1\" class=\"dataframe\">\n",
              "  <thead>\n",
              "    <tr style=\"text-align: right;\">\n",
              "      <th></th>\n",
              "      <th>country</th>\n",
              "      <th>review_title</th>\n",
              "      <th>review_description</th>\n",
              "      <th>designation</th>\n",
              "      <th>province</th>\n",
              "      <th>region_1</th>\n",
              "      <th>region_2</th>\n",
              "      <th>winery</th>\n",
              "      <th>variety</th>\n",
              "    </tr>\n",
              "  </thead>\n",
              "  <tbody>\n",
              "    <tr>\n",
              "      <th>0</th>\n",
              "      <td>Australia</td>\n",
              "      <td>Andrew Peace 2007 Peace Family Vineyard Chardo...</td>\n",
              "      <td>Classic Chardonnay aromas of apple, pear and h...</td>\n",
              "      <td>Peace Family Vineyard</td>\n",
              "      <td>Australia Other</td>\n",
              "      <td>South Eastern Australia</td>\n",
              "      <td>NaN</td>\n",
              "      <td>Andrew Peace</td>\n",
              "      <td>Chardonnay</td>\n",
              "    </tr>\n",
              "    <tr>\n",
              "      <th>1</th>\n",
              "      <td>US</td>\n",
              "      <td>North by Northwest 2014 Red (Columbia Valley (...</td>\n",
              "      <td>This wine is near equal parts Syrah and Merlot...</td>\n",
              "      <td>NaN</td>\n",
              "      <td>Washington</td>\n",
              "      <td>Columbia Valley (WA)</td>\n",
              "      <td>Columbia Valley</td>\n",
              "      <td>North by Northwest</td>\n",
              "      <td>Red Blend</td>\n",
              "    </tr>\n",
              "  </tbody>\n",
              "</table>\n",
              "</div>"
            ],
            "text/plain": [
              "     country  ...     variety\n",
              "0  Australia  ...  Chardonnay\n",
              "1         US  ...   Red Blend\n",
              "\n",
              "[2 rows x 9 columns]"
            ]
          },
          "metadata": {
            "tags": []
          },
          "execution_count": 8
        }
      ]
    },
    {
      "cell_type": "code",
      "metadata": {
        "id": "dT1_bA2PNWw0",
        "colab_type": "code",
        "colab": {
          "base_uri": "https://localhost:8080/",
          "height": 187
        },
        "outputId": "7044f79f-86ae-43d0-9057-34a2b15147bb"
      },
      "source": [
        "ds_cat.nunique()\n"
      ],
      "execution_count": 29,
      "outputs": [
        {
          "output_type": "execute_result",
          "data": {
            "text/plain": [
              "country                  38\n",
              "review_title          76983\n",
              "review_description    77628\n",
              "designation           26424\n",
              "province                358\n",
              "region_1               1019\n",
              "region_2                 17\n",
              "winery                13786\n",
              "variety                  28\n",
              "dtype: int64"
            ]
          },
          "metadata": {
            "tags": []
          },
          "execution_count": 29
        }
      ]
    },
    {
      "cell_type": "code",
      "metadata": {
        "id": "iS-PeBH2mwZ3",
        "colab_type": "code",
        "outputId": "b3ed2080-2ffa-4a11-c851-f29662a4a7f3",
        "colab": {
          "base_uri": "https://localhost:8080/",
          "height": 187
        }
      },
      "source": [
        "ds_cat.isnull().sum()\n"
      ],
      "execution_count": 30,
      "outputs": [
        {
          "output_type": "execute_result",
          "data": {
            "text/plain": [
              "country                  35\n",
              "review_title              0\n",
              "review_description        0\n",
              "designation           23647\n",
              "province                 35\n",
              "region_1              12754\n",
              "region_2              46708\n",
              "winery                    0\n",
              "variety                   0\n",
              "dtype: int64"
            ]
          },
          "metadata": {
            "tags": []
          },
          "execution_count": 30
        }
      ]
    },
    {
      "cell_type": "markdown",
      "metadata": {
        "id": "L1-N8WPsRKsj",
        "colab_type": "text"
      },
      "source": [
        "Style red Blend ,Pinot Noir  and chardonnay is expensive than other varietes >1000"
      ]
    },
    {
      "cell_type": "code",
      "metadata": {
        "id": "SrSxop-vpz-T",
        "colab_type": "code",
        "outputId": "4e68e958-11b1-4098-c573-ad3f183d8344",
        "colab": {
          "base_uri": "https://localhost:8080/",
          "height": 68
        }
      },
      "source": [
        "import nltk\n",
        "nltk.download(\"stopwords\")\n"
      ],
      "execution_count": 38,
      "outputs": [
        {
          "output_type": "stream",
          "text": [
            "[nltk_data] Downloading package stopwords to /root/nltk_data...\n",
            "[nltk_data]   Unzipping corpora/stopwords.zip.\n"
          ],
          "name": "stdout"
        },
        {
          "output_type": "execute_result",
          "data": {
            "text/plain": [
              "True"
            ]
          },
          "metadata": {
            "tags": []
          },
          "execution_count": 38
        }
      ]
    },
    {
      "cell_type": "code",
      "metadata": {
        "id": "j-mr2twruhSw",
        "colab_type": "code",
        "colab": {
          "base_uri": "https://localhost:8080/",
          "height": 606
        },
        "outputId": "81bdb13a-470c-4da3-db60-b861aad0844a"
      },
      "source": [
        "train_df.dropna(axis=0)"
      ],
      "execution_count": 11,
      "outputs": [
        {
          "output_type": "execute_result",
          "data": {
            "text/html": [
              "<div>\n",
              "<style scoped>\n",
              "    .dataframe tbody tr th:only-of-type {\n",
              "        vertical-align: middle;\n",
              "    }\n",
              "\n",
              "    .dataframe tbody tr th {\n",
              "        vertical-align: top;\n",
              "    }\n",
              "\n",
              "    .dataframe thead th {\n",
              "        text-align: right;\n",
              "    }\n",
              "</style>\n",
              "<table border=\"1\" class=\"dataframe\">\n",
              "  <thead>\n",
              "    <tr style=\"text-align: right;\">\n",
              "      <th></th>\n",
              "      <th>country</th>\n",
              "      <th>review_title</th>\n",
              "      <th>review_description</th>\n",
              "      <th>designation</th>\n",
              "      <th>points</th>\n",
              "      <th>price</th>\n",
              "      <th>province</th>\n",
              "      <th>region_1</th>\n",
              "      <th>region_2</th>\n",
              "      <th>winery</th>\n",
              "      <th>variety</th>\n",
              "    </tr>\n",
              "  </thead>\n",
              "  <tbody>\n",
              "    <tr>\n",
              "      <th>6</th>\n",
              "      <td>US</td>\n",
              "      <td>Gordon Estate 2012 Tradition Red (Columbia Val...</td>\n",
              "      <td>Half Syrah and half Cabernet Sauvignon, with 4...</td>\n",
              "      <td>Tradition</td>\n",
              "      <td>91</td>\n",
              "      <td>45.0</td>\n",
              "      <td>Washington</td>\n",
              "      <td>Columbia Valley (WA)</td>\n",
              "      <td>Columbia Valley</td>\n",
              "      <td>Gordon Estate</td>\n",
              "      <td>Red Blend</td>\n",
              "    </tr>\n",
              "    <tr>\n",
              "      <th>7</th>\n",
              "      <td>US</td>\n",
              "      <td>Rock Wall 2014 Monte Rosso Reserve Zinfandel (...</td>\n",
              "      <td>High-toned red fruit stars in this wine, a nic...</td>\n",
              "      <td>Monte Rosso Reserve</td>\n",
              "      <td>90</td>\n",
              "      <td>50.0</td>\n",
              "      <td>California</td>\n",
              "      <td>Sonoma County</td>\n",
              "      <td>Sonoma</td>\n",
              "      <td>Rock Wall</td>\n",
              "      <td>Zinfandel</td>\n",
              "    </tr>\n",
              "    <tr>\n",
              "      <th>8</th>\n",
              "      <td>US</td>\n",
              "      <td>Elizabeth Chambers 2014 Falcon Glen Vineyard P...</td>\n",
              "      <td>Displaying typical McMinnville AVA subtlety, t...</td>\n",
              "      <td>Falcon Glen Vineyard</td>\n",
              "      <td>91</td>\n",
              "      <td>48.0</td>\n",
              "      <td>Oregon</td>\n",
              "      <td>McMinnville</td>\n",
              "      <td>Willamette Valley</td>\n",
              "      <td>Elizabeth Chambers</td>\n",
              "      <td>Pinot Noir</td>\n",
              "    </tr>\n",
              "    <tr>\n",
              "      <th>10</th>\n",
              "      <td>US</td>\n",
              "      <td>Cuvaison 2014 Estate Grown Sauvignon Blanc (Ca...</td>\n",
              "      <td>With an alluring bouquet of fresh-cut jasmine ...</td>\n",
              "      <td>Estate Grown</td>\n",
              "      <td>90</td>\n",
              "      <td>18.0</td>\n",
              "      <td>California</td>\n",
              "      <td>Carneros</td>\n",
              "      <td>Napa-Sonoma</td>\n",
              "      <td>Cuvaison</td>\n",
              "      <td>Sauvignon Blanc</td>\n",
              "    </tr>\n",
              "    <tr>\n",
              "      <th>22</th>\n",
              "      <td>US</td>\n",
              "      <td>Vision Cellars 2006 Las Alturas Vineyard Pinot...</td>\n",
              "      <td>Too big by far for a Pinot Noir, this single-v...</td>\n",
              "      <td>Las Alturas Vineyard</td>\n",
              "      <td>84</td>\n",
              "      <td>48.0</td>\n",
              "      <td>California</td>\n",
              "      <td>Santa Lucia Highlands</td>\n",
              "      <td>Central Coast</td>\n",
              "      <td>Vision Cellars</td>\n",
              "      <td>Pinot Noir</td>\n",
              "    </tr>\n",
              "    <tr>\n",
              "      <th>...</th>\n",
              "      <td>...</td>\n",
              "      <td>...</td>\n",
              "      <td>...</td>\n",
              "      <td>...</td>\n",
              "      <td>...</td>\n",
              "      <td>...</td>\n",
              "      <td>...</td>\n",
              "      <td>...</td>\n",
              "      <td>...</td>\n",
              "      <td>...</td>\n",
              "      <td>...</td>\n",
              "    </tr>\n",
              "    <tr>\n",
              "      <th>82632</th>\n",
              "      <td>US</td>\n",
              "      <td>un4seen 2009 Red blend Red (California)</td>\n",
              "      <td>Dark like a cave in color, this big red blend ...</td>\n",
              "      <td>Red blend</td>\n",
              "      <td>85</td>\n",
              "      <td>10.0</td>\n",
              "      <td>California</td>\n",
              "      <td>California</td>\n",
              "      <td>California Other</td>\n",
              "      <td>un4seen</td>\n",
              "      <td>Red Blend</td>\n",
              "    </tr>\n",
              "    <tr>\n",
              "      <th>82639</th>\n",
              "      <td>US</td>\n",
              "      <td>Archery Summit 2012 Red Hills Estate Pinot Noi...</td>\n",
              "      <td>Showing a light whiff of funk, this seems a bi...</td>\n",
              "      <td>Red Hills Estate</td>\n",
              "      <td>92</td>\n",
              "      <td>85.0</td>\n",
              "      <td>Oregon</td>\n",
              "      <td>Dundee Hills</td>\n",
              "      <td>Willamette Valley</td>\n",
              "      <td>Archery Summit</td>\n",
              "      <td>Pinot Noir</td>\n",
              "    </tr>\n",
              "    <tr>\n",
              "      <th>82641</th>\n",
              "      <td>US</td>\n",
              "      <td>The Withers Winery 2013 Mr. Burgess Red (El Do...</td>\n",
              "      <td>Imposing, concentrated and tannic, this Syrah-...</td>\n",
              "      <td>Mr. Burgess</td>\n",
              "      <td>92</td>\n",
              "      <td>36.0</td>\n",
              "      <td>California</td>\n",
              "      <td>El Dorado</td>\n",
              "      <td>Sierra Foothills</td>\n",
              "      <td>The Withers Winery</td>\n",
              "      <td>Rhône-style Red Blend</td>\n",
              "    </tr>\n",
              "    <tr>\n",
              "      <th>82642</th>\n",
              "      <td>US</td>\n",
              "      <td>Peter Cellars 2013 Estate Rosé of Pinot Noir (...</td>\n",
              "      <td>Pinkish-gold in color, this is a faint, dry an...</td>\n",
              "      <td>Estate Rosé of</td>\n",
              "      <td>86</td>\n",
              "      <td>25.0</td>\n",
              "      <td>California</td>\n",
              "      <td>Carneros</td>\n",
              "      <td>Napa-Sonoma</td>\n",
              "      <td>Peter Cellars</td>\n",
              "      <td>Pinot Noir</td>\n",
              "    </tr>\n",
              "    <tr>\n",
              "      <th>82656</th>\n",
              "      <td>US</td>\n",
              "      <td>Round Pond 2010 Estate Cabernet Sauvignon (Rut...</td>\n",
              "      <td>A big, rich, vital Cabernet with immediate att...</td>\n",
              "      <td>Estate</td>\n",
              "      <td>92</td>\n",
              "      <td>50.0</td>\n",
              "      <td>California</td>\n",
              "      <td>Rutherford</td>\n",
              "      <td>Napa</td>\n",
              "      <td>Round Pond</td>\n",
              "      <td>Cabernet Sauvignon</td>\n",
              "    </tr>\n",
              "  </tbody>\n",
              "</table>\n",
              "<p>24561 rows × 11 columns</p>\n",
              "</div>"
            ],
            "text/plain": [
              "      country  ...                variety\n",
              "6          US  ...              Red Blend\n",
              "7          US  ...              Zinfandel\n",
              "8          US  ...             Pinot Noir\n",
              "10         US  ...        Sauvignon Blanc\n",
              "22         US  ...             Pinot Noir\n",
              "...       ...  ...                    ...\n",
              "82632      US  ...              Red Blend\n",
              "82639      US  ...             Pinot Noir\n",
              "82641      US  ...  Rhône-style Red Blend\n",
              "82642      US  ...             Pinot Noir\n",
              "82656      US  ...     Cabernet Sauvignon\n",
              "\n",
              "[24561 rows x 11 columns]"
            ]
          },
          "metadata": {
            "tags": []
          },
          "execution_count": 11
        }
      ]
    },
    {
      "cell_type": "code",
      "metadata": {
        "id": "rkMOpT6_4y6r",
        "colab_type": "code",
        "colab": {
          "base_uri": "https://localhost:8080/",
          "height": 221
        },
        "outputId": "ad2cbd5c-8f13-4e15-8acf-f888c6a1217b"
      },
      "source": [
        "outputs"
      ],
      "execution_count": 31,
      "outputs": [
        {
          "output_type": "execute_result",
          "data": {
            "text/plain": [
              "0                        Chardonnay\n",
              "1                         Red Blend\n",
              "2                          Nebbiolo\n",
              "3        Bordeaux-style White Blend\n",
              "4                            Malbec\n",
              "                    ...            \n",
              "82652                   Tempranillo\n",
              "82653            Cabernet Sauvignon\n",
              "82654                         Gamay\n",
              "82655      Bordeaux-style Red Blend\n",
              "82656            Cabernet Sauvignon\n",
              "Name: variety, Length: 82657, dtype: object"
            ]
          },
          "metadata": {
            "tags": []
          },
          "execution_count": 31
        }
      ]
    },
    {
      "cell_type": "code",
      "metadata": {
        "id": "1oXYNXtp3hX-",
        "colab_type": "code",
        "colab": {}
      },
      "source": [
        "output = set()\n",
        "for x in train_df['variety']:\n",
        "    x = x.lower()\n",
        "    x = x.split()\n",
        "    for y in x:\n",
        "        output.add(y)\n",
        "\n",
        "variety_list =sorted(output)"
      ],
      "execution_count": 0,
      "outputs": []
    },
    {
      "cell_type": "code",
      "metadata": {
        "id": "n9y4Q1nO4bsv",
        "colab_type": "code",
        "colab": {
          "base_uri": "https://localhost:8080/",
          "height": 527
        },
        "outputId": "c1afe2a3-5f75-4079-c41c-6aa34d7e086f"
      },
      "source": [
        "variety_list"
      ],
      "execution_count": 29,
      "outputs": [
        {
          "output_type": "execute_result",
          "data": {
            "text/plain": [
              "['blanc',\n",
              " 'blend',\n",
              " 'bordeaux-style',\n",
              " 'cabernet',\n",
              " 'champagne',\n",
              " 'chardonnay',\n",
              " 'franc',\n",
              " 'gamay',\n",
              " 'gewürztraminer',\n",
              " 'grigio',\n",
              " 'gris',\n",
              " 'grüner',\n",
              " 'malbec',\n",
              " 'merlot',\n",
              " 'nebbiolo',\n",
              " 'noir',\n",
              " 'pinot',\n",
              " 'portuguese',\n",
              " 'red',\n",
              " 'rhône-style',\n",
              " 'riesling',\n",
              " 'rosé',\n",
              " 'sangiovese',\n",
              " 'sauvignon',\n",
              " 'sparkling',\n",
              " 'syrah',\n",
              " 'tempranillo',\n",
              " 'veltliner',\n",
              " 'white',\n",
              " 'zinfandel']"
            ]
          },
          "metadata": {
            "tags": []
          },
          "execution_count": 29
        }
      ]
    },
    {
      "cell_type": "code",
      "metadata": {
        "id": "_Rs_dqi53-Ur",
        "colab_type": "code",
        "colab": {}
      },
      "source": [
        "extras = ['.', ',', '\"', \"'\", '?', '!', ':', ';', '(', ')', '[', ']', '{', '}', 'cab',\"%\"]\n",
        "from nltk.corpus import stopwords\n",
        "stop = set(stopwords.words('english'))\n",
        "stop.update(variety_list)\n",
        "stop.update(extras)"
      ],
      "execution_count": 0,
      "outputs": []
    },
    {
      "cell_type": "markdown",
      "metadata": {
        "id": "O0IJZxPzu0s7",
        "colab_type": "text"
      },
      "source": [
        "Label Encoding the target variable @varity"
      ]
    },
    {
      "cell_type": "code",
      "metadata": {
        "id": "IqY-ElB5vzGW",
        "colab_type": "code",
        "colab": {}
      },
      "source": [
        "num_words = input_df.apply(lambda x: len(x.split()))\n",
        "num_words_mean, num_words_std = np.mean(num_words), np.std(num_words)\n",
        "\n",
        "num_sentences = input_df.apply(lambda x: len(re.split( '~ ...' ,'~'.join(x.split('.')))))\n",
        "num_sentences_mean = np.mean(num_sentences)"
      ],
      "execution_count": 0,
      "outputs": []
    },
    {
      "cell_type": "markdown",
      "metadata": {
        "id": "E6IRJdNLxWGh",
        "colab_type": "text"
      },
      "source": [
        "WordVectors for review descriptions"
      ]
    },
    {
      "cell_type": "code",
      "metadata": {
        "id": "GDWglAQZyME3",
        "colab_type": "code",
        "colab": {}
      },
      "source": [
        "import keras\n",
        "import tensorflow as tf\n",
        "\n",
        "sess = tf.compat.v1.keras.backend.get_session()\n",
        "\n",
        "tf.compat.v1.keras.backend.set_session(sess)\n"
      ],
      "execution_count": 0,
      "outputs": []
    },
    {
      "cell_type": "code",
      "metadata": {
        "id": "rtwMlDCz0BVE",
        "colab_type": "code",
        "colab": {}
      },
      "source": [
        "from sklearn.ensemble import AdaBoostClassifier\n",
        "from sklearn.metrics import accuracy_score, roc_curve, auc, confusion_matrix, precision_score\n",
        "from sklearn.tree import DecisionTreeClassifier\n"
      ],
      "execution_count": 0,
      "outputs": []
    },
    {
      "cell_type": "code",
      "metadata": {
        "id": "I2x8jpsc7EX5",
        "colab_type": "code",
        "colab": {
          "base_uri": "https://localhost:8080/",
          "height": 34
        },
        "outputId": "0f518a21-808d-4b7c-a5bd-b2667bacbaca"
      },
      "source": [
        "len(vect.get_feature_names())"
      ],
      "execution_count": 48,
      "outputs": [
        {
          "output_type": "execute_result",
          "data": {
            "text/plain": [
              "25842"
            ]
          },
          "metadata": {
            "tags": []
          },
          "execution_count": 48
        }
      ]
    },
    {
      "cell_type": "code",
      "metadata": {
        "id": "D7_Pwzn68Ohu",
        "colab_type": "code",
        "colab": {}
      },
      "source": [
        "input_data = train_df['review_description']\n",
        "output_data = train_df['variety']"
      ],
      "execution_count": 0,
      "outputs": []
    },
    {
      "cell_type": "code",
      "metadata": {
        "id": "zhcpvHbA8Tac",
        "colab_type": "code",
        "colab": {
          "base_uri": "https://localhost:8080/",
          "height": 34
        },
        "outputId": "da07d4ae-c4e5-4d07-f180-90dc5632e8fd"
      },
      "source": [
        "print ('There are %d varieties of wines in this dataset' % len(set(output_data)))"
      ],
      "execution_count": 52,
      "outputs": [
        {
          "output_type": "stream",
          "text": [
            "There are 28 varieties of wines in this dataset\n"
          ],
          "name": "stdout"
        }
      ]
    },
    {
      "cell_type": "code",
      "metadata": {
        "id": "-BvQUr958hxu",
        "colab_type": "code",
        "colab": {
          "base_uri": "https://localhost:8080/",
          "height": 34
        },
        "outputId": "bcfbca16-3f18-4f5b-e1b6-57769b2b3848"
      },
      "source": [
        "labelEncoder = LabelEncoder()\n",
        "output_data = labelEncoder.fit_transform(output_data)\n",
        "output_data"
      ],
      "execution_count": 53,
      "outputs": [
        {
          "output_type": "execute_result",
          "data": {
            "text/plain": [
              "array([ 5, 17, 11, ...,  6,  0,  3])"
            ]
          },
          "metadata": {
            "tags": []
          },
          "execution_count": 53
        }
      ]
    },
    {
      "cell_type": "code",
      "metadata": {
        "id": "Ehq2hShP8kNo",
        "colab_type": "code",
        "colab": {}
      },
      "source": [
        "input_data = input_data.str.lower()\n",
        "processed = []\n",
        "# stopwords removal and subsitutions/modifications on regex \n",
        "for word in input_data.str.lower():\n",
        "    processed.append(' '.join([re.sub('[0-9\\W_]', '', w) for w in word.split() if not w in sw]))\n",
        "input_data= processed"
      ],
      "execution_count": 0,
      "outputs": []
    },
    {
      "cell_type": "code",
      "metadata": {
        "id": "2rHY47oM8viS",
        "colab_type": "code",
        "colab": {}
      },
      "source": [
        "countVectorizer = CountVectorizer()\n",
        "input_data = countVectorizer.fit_transform(input_data)"
      ],
      "execution_count": 0,
      "outputs": []
    },
    {
      "cell_type": "code",
      "metadata": {
        "id": "-i_uB5Kd9NmQ",
        "colab_type": "code",
        "colab": {}
      },
      "source": [
        "X_train, X_test, y_train, y_test = train_test_split(input_data, output_data, test_size=0.2) "
      ],
      "execution_count": 0,
      "outputs": []
    },
    {
      "cell_type": "code",
      "metadata": {
        "id": "Xm6SoJj8xUqL",
        "colab_type": "code",
        "colab": {
          "base_uri": "https://localhost:8080/",
          "height": 374
        },
        "outputId": "a61983ad-8bbd-4549-c63a-ea0766471a42"
      },
      "source": [
        "model = Sequential()\n",
        "model.add(Dense(100, activation='relu', input_dim=len(countVectorizer.get_feature_names())))\n",
        "model.add(Dense(units=output_data.max()+1, activation='sigmoid'))\n",
        "model.compile(loss='sparse_categorical_crossentropy', optimizer='adam', metrics=['accuracy'])\n",
        "model.fit(X_train, y_train, epochs=10, verbose=1)"
      ],
      "execution_count": 58,
      "outputs": [
        {
          "output_type": "stream",
          "text": [
            "Epoch 1/10\n",
            "66125/66125 [==============================] - 15s 224us/step - loss: 1.2517 - accuracy: 0.6373\n",
            "Epoch 2/10\n",
            "66125/66125 [==============================] - 15s 221us/step - loss: 0.6621 - accuracy: 0.7942\n",
            "Epoch 3/10\n",
            "66125/66125 [==============================] - 15s 223us/step - loss: 0.4641 - accuracy: 0.8568\n",
            "Epoch 4/10\n",
            "66125/66125 [==============================] - 14s 210us/step - loss: 0.3423 - accuracy: 0.8939\n",
            "Epoch 5/10\n",
            "66125/66125 [==============================] - 13s 193us/step - loss: 0.2581 - accuracy: 0.9206\n",
            "Epoch 6/10\n",
            "66125/66125 [==============================] - 13s 193us/step - loss: 0.1983 - accuracy: 0.9400\n",
            "Epoch 7/10\n",
            "66125/66125 [==============================] - 13s 194us/step - loss: 0.1524 - accuracy: 0.9541\n",
            "Epoch 8/10\n",
            "66125/66125 [==============================] - 13s 197us/step - loss: 0.1185 - accuracy: 0.9652\n",
            "Epoch 9/10\n",
            "66125/66125 [==============================] - 13s 193us/step - loss: 0.0918 - accuracy: 0.9732\n",
            "Epoch 10/10\n",
            "66125/66125 [==============================] - 13s 193us/step - loss: 0.0714 - accuracy: 0.9798\n"
          ],
          "name": "stdout"
        },
        {
          "output_type": "execute_result",
          "data": {
            "text/plain": [
              "<keras.callbacks.callbacks.History at 0x7f810f4b0a90>"
            ]
          },
          "metadata": {
            "tags": []
          },
          "execution_count": 58
        }
      ]
    },
    {
      "cell_type": "code",
      "metadata": {
        "id": "hSyA2H5IELSB",
        "colab_type": "code",
        "colab": {
          "base_uri": "https://localhost:8080/",
          "height": 51
        },
        "outputId": "c746c5e3-0235-4d04-85a1-56ffe017dc3d"
      },
      "source": [
        "scores = model.evaluate(X_test, y_test, verbose=1)\n",
        "print ('The accuracy of the model is %s' % scores[1])"
      ],
      "execution_count": 59,
      "outputs": [
        {
          "output_type": "stream",
          "text": [
            "16532/16532 [==============================] - 2s 146us/step\n",
            "The accuracy of the model is 0.6728768348693848\n"
          ],
          "name": "stdout"
        }
      ]
    },
    {
      "cell_type": "code",
      "metadata": {
        "id": "Gjbqz5LU9-3G",
        "colab_type": "code",
        "colab": {
          "base_uri": "https://localhost:8080/",
          "height": 34
        },
        "outputId": "b37f441f-58de-4f10-bf9d-74669957e1b5"
      },
      "source": [
        "model.save_weights(\"drive/My Drive/Knight/Data/model.h5\")\n",
        "print(\"Saved model to disk\")"
      ],
      "execution_count": 60,
      "outputs": [
        {
          "output_type": "stream",
          "text": [
            "Saved model to disk\n"
          ],
          "name": "stdout"
        }
      ]
    },
    {
      "cell_type": "code",
      "metadata": {
        "id": "1sEDyWo4HusG",
        "colab_type": "code",
        "colab": {
          "base_uri": "https://localhost:8080/",
          "height": 323
        },
        "outputId": "e06557a3-3c4e-44cc-9919-e652ae3ec096"
      },
      "source": [
        "train_df.head()"
      ],
      "execution_count": 62,
      "outputs": [
        {
          "output_type": "execute_result",
          "data": {
            "text/html": [
              "<div>\n",
              "<style scoped>\n",
              "    .dataframe tbody tr th:only-of-type {\n",
              "        vertical-align: middle;\n",
              "    }\n",
              "\n",
              "    .dataframe tbody tr th {\n",
              "        vertical-align: top;\n",
              "    }\n",
              "\n",
              "    .dataframe thead th {\n",
              "        text-align: right;\n",
              "    }\n",
              "</style>\n",
              "<table border=\"1\" class=\"dataframe\">\n",
              "  <thead>\n",
              "    <tr style=\"text-align: right;\">\n",
              "      <th></th>\n",
              "      <th>country</th>\n",
              "      <th>review_title</th>\n",
              "      <th>review_description</th>\n",
              "      <th>designation</th>\n",
              "      <th>points</th>\n",
              "      <th>price</th>\n",
              "      <th>province</th>\n",
              "      <th>region_1</th>\n",
              "      <th>region_2</th>\n",
              "      <th>winery</th>\n",
              "      <th>variety</th>\n",
              "    </tr>\n",
              "  </thead>\n",
              "  <tbody>\n",
              "    <tr>\n",
              "      <th>0</th>\n",
              "      <td>Australia</td>\n",
              "      <td>Andrew Peace 2007 Peace Family Vineyard Chardo...</td>\n",
              "      <td>Classic Chardonnay aromas of apple, pear and h...</td>\n",
              "      <td>Peace Family Vineyard</td>\n",
              "      <td>83</td>\n",
              "      <td>10.0</td>\n",
              "      <td>Australia Other</td>\n",
              "      <td>South Eastern Australia</td>\n",
              "      <td>NaN</td>\n",
              "      <td>Andrew Peace</td>\n",
              "      <td>Chardonnay</td>\n",
              "    </tr>\n",
              "    <tr>\n",
              "      <th>1</th>\n",
              "      <td>US</td>\n",
              "      <td>North by Northwest 2014 Red (Columbia Valley (...</td>\n",
              "      <td>This wine is near equal parts Syrah and Merlot...</td>\n",
              "      <td>NaN</td>\n",
              "      <td>89</td>\n",
              "      <td>15.0</td>\n",
              "      <td>Washington</td>\n",
              "      <td>Columbia Valley (WA)</td>\n",
              "      <td>Columbia Valley</td>\n",
              "      <td>North by Northwest</td>\n",
              "      <td>Red Blend</td>\n",
              "    </tr>\n",
              "    <tr>\n",
              "      <th>2</th>\n",
              "      <td>Italy</td>\n",
              "      <td>Renato Ratti 2007 Conca  (Barolo)</td>\n",
              "      <td>Barolo Conca opens with inky dark concentratio...</td>\n",
              "      <td>Conca</td>\n",
              "      <td>94</td>\n",
              "      <td>80.0</td>\n",
              "      <td>Piedmont</td>\n",
              "      <td>Barolo</td>\n",
              "      <td>NaN</td>\n",
              "      <td>Renato Ratti</td>\n",
              "      <td>Nebbiolo</td>\n",
              "    </tr>\n",
              "    <tr>\n",
              "      <th>3</th>\n",
              "      <td>France</td>\n",
              "      <td>Domaine l'Ancienne Cure 2010 L'Abbaye White (B...</td>\n",
              "      <td>It's impressive what a small addition of Sauvi...</td>\n",
              "      <td>L'Abbaye</td>\n",
              "      <td>87</td>\n",
              "      <td>22.0</td>\n",
              "      <td>Southwest France</td>\n",
              "      <td>Bergerac Sec</td>\n",
              "      <td>NaN</td>\n",
              "      <td>Domaine l'Ancienne Cure</td>\n",
              "      <td>Bordeaux-style White Blend</td>\n",
              "    </tr>\n",
              "    <tr>\n",
              "      <th>4</th>\n",
              "      <td>France</td>\n",
              "      <td>Château du Cèdre 2012 Le Cèdre Vintage Malbec ...</td>\n",
              "      <td>This ripe, sweet wine is rich and full of drie...</td>\n",
              "      <td>Le Cèdre Vintage</td>\n",
              "      <td>88</td>\n",
              "      <td>33.0</td>\n",
              "      <td>France Other</td>\n",
              "      <td>Vin de Liqueur</td>\n",
              "      <td>NaN</td>\n",
              "      <td>Château du Cèdre</td>\n",
              "      <td>Malbec</td>\n",
              "    </tr>\n",
              "  </tbody>\n",
              "</table>\n",
              "</div>"
            ],
            "text/plain": [
              "     country  ...                     variety\n",
              "0  Australia  ...                  Chardonnay\n",
              "1         US  ...                   Red Blend\n",
              "2      Italy  ...                    Nebbiolo\n",
              "3     France  ...  Bordeaux-style White Blend\n",
              "4     France  ...                      Malbec\n",
              "\n",
              "[5 rows x 11 columns]"
            ]
          },
          "metadata": {
            "tags": []
          },
          "execution_count": 62
        }
      ]
    },
    {
      "cell_type": "code",
      "metadata": {
        "id": "vo_10S4iE9Bs",
        "colab_type": "code",
        "colab": {
          "base_uri": "https://localhost:8080/",
          "height": 170
        },
        "outputId": "f8ebed6d-0fb6-4105-b8ce-dcfa51d8e388"
      },
      "source": [
        "dfWineClassifier = train_df[[ 'review_description', 'price', 'variety', 'country', 'province' ]]\n",
        "print(dfWineClassifier.isnull().sum())\n",
        "print()\n",
        "\n",
        "\n",
        "# pd.DataFrame(dfWineClassifier.variety.unique()).values\n",
        "\n",
        "#If we're missing important values, remove the row\n",
        "dfWineClassifier=dfWineClassifier.dropna(subset=['review_description', 'variety'])\n",
        "print('Removed ' + str(train_df.shape[0]-dfWineClassifier.shape[0]) + ' rows with empty values.' + \"\\n\")"
      ],
      "execution_count": 66,
      "outputs": [
        {
          "output_type": "stream",
          "text": [
            "review_description       0\n",
            "price                 5569\n",
            "variety                  0\n",
            "country                 35\n",
            "province                35\n",
            "dtype: int64\n",
            "\n",
            "Removed 0 rows with empty values.\n",
            "\n"
          ],
          "name": "stdout"
        }
      ]
    },
    {
      "cell_type": "code",
      "metadata": {
        "id": "4I3yCsc8H845",
        "colab_type": "code",
        "colab": {
          "base_uri": "https://localhost:8080/",
          "height": 419
        },
        "outputId": "56deeff9-3d4e-4606-c485-6ff70f008802"
      },
      "source": [
        "num_bars = 19\n",
        "\n",
        "fig = plt.figure(figsize=(8,6))\n",
        "colors = plt.cm.get_cmap('viridis', num_bars)\n",
        "dfWineClassifier.groupby('variety').variety.count().sort_values()[num_bars:].plot.barh(\n",
        "    ylim=0, color=colors.colors, title= 'NUMBER IN EACH CATEGORY\\n')\n",
        "plt.xlabel('Number of ocurrences', fontsize = 10);"
      ],
      "execution_count": 68,
      "outputs": [
        {
          "output_type": "display_data",
          "data": {
            "image/png": "[encoded data removed]",
            "text/plain": [
              "<Figure size 576x432 with 1 Axes>"
            ]
          },
          "metadata": {
            "tags": [],
            "needs_background": "light"
          }
        }
      ]
    },
    {
      "cell_type": "code",
      "metadata": {
        "id": "MPA7eiwyJl6Z",
        "colab_type": "code",
        "colab": {
          "base_uri": "https://localhost:8080/",
          "height": 612
        },
        "outputId": "ed3f6d41-4da7-431c-aa9c-8eed76f490de"
      },
      "source": [
        "# Get label frequencies in descending order\n",
        "label_freq = train_df['variety'].apply(lambda s: str(s)).explode().value_counts().sort_values(ascending=False)\n",
        "\n",
        "# Bar plot\n",
        "plt.figure(figsize=(12,10))\n",
        "sns.barplot(y=label_freq.index.values, x=label_freq, order=label_freq.iloc[:15].index)\n",
        "plt.title(\"Grape frequency\", fontsize=14)\n",
        "plt.xlabel(\"\")\n",
        "plt.xticks(fontsize=12)\n",
        "plt.yticks(fontsize=12)\n",
        "plt.show()"
      ],
      "execution_count": 76,
      "outputs": [
        {
          "output_type": "display_data",
          "data": {
            "image/png": "[encoded data removed]",
            "text/plain": [
              "<Figure size 864x720 with 1 Axes>"
            ]
          },
          "metadata": {
            "tags": [],
            "needs_background": "light"
          }
        }
      ]
    },
    {
      "cell_type": "code",
      "metadata": {
        "id": "KNT5khQdZP0Y",
        "colab_type": "code",
        "colab": {
          "base_uri": "https://localhost:8080/",
          "height": 122
        },
        "outputId": "69e5975e-ae9e-4026-9bb3-a8c459d9d2a1"
      },
      "source": [
        "!pip install unidecode"
      ],
      "execution_count": 4,
      "outputs": [
        {
          "output_type": "stream",
          "text": [
            "Collecting unidecode\n",
            "\u001b[?25l  Downloading https://files.pythonhosted.org/packages/d0/42/d9edfed04228bacea2d824904cae367ee9efd05e6cce7ceaaedd0b0ad964/Unidecode-1.1.1-py2.py3-none-any.whl (238kB)\n",
            "\r\u001b[K     |█▍                              | 10kB 21.6MB/s eta 0:00:01\r\u001b[K     |██▊                             | 20kB 6.4MB/s eta 0:00:01\r\u001b[K     |████▏                           | 30kB 7.6MB/s eta 0:00:01\r\u001b[K     |█████▌                          | 40kB 9.4MB/s eta 0:00:01\r\u001b[K     |██████▉                         | 51kB 7.2MB/s eta 0:00:01\r\u001b[K     |████████▎                       | 61kB 8.4MB/s eta 0:00:01\r\u001b[K     |█████████▋                      | 71kB 9.4MB/s eta 0:00:01\r\u001b[K     |███████████                     | 81kB 10.3MB/s eta 0:00:01\r\u001b[K     |████████████▍                   | 92kB 8.4MB/s eta 0:00:01\r\u001b[K     |█████████████▊                  | 102kB 9.1MB/s eta 0:00:01\r\u001b[K     |███████████████▏                | 112kB 9.1MB/s eta 0:00:01\r\u001b[K     |████████████████▌               | 122kB 9.1MB/s eta 0:00:01\r\u001b[K     |█████████████████▉              | 133kB 9.1MB/s eta 0:00:01\r\u001b[K     |███████████████████▎            | 143kB 9.1MB/s eta 0:00:01\r\u001b[K     |████████████████████▋           | 153kB 9.1MB/s eta 0:00:01\r\u001b[K     |██████████████████████          | 163kB 9.1MB/s eta 0:00:01\r\u001b[K     |███████████████████████▍        | 174kB 9.1MB/s eta 0:00:01\r\u001b[K     |████████████████████████▊       | 184kB 9.1MB/s eta 0:00:01\r\u001b[K     |██████████████████████████▏     | 194kB 9.1MB/s eta 0:00:01\r\u001b[K     |███████████████████████████▌    | 204kB 9.1MB/s eta 0:00:01\r\u001b[K     |████████████████████████████▉   | 215kB 9.1MB/s eta 0:00:01\r\u001b[K     |██████████████████████████████▎ | 225kB 9.1MB/s eta 0:00:01\r\u001b[K     |███████████████████████████████▋| 235kB 9.1MB/s eta 0:00:01\r\u001b[K     |████████████████████████████████| 245kB 9.1MB/s \n",
            "\u001b[?25hInstalling collected packages: unidecode\n",
            "Successfully installed unidecode-1.1.1\n"
          ],
          "name": "stdout"
        }
      ]
    },
    {
      "cell_type": "code",
      "metadata": {
        "id": "hurEnF8aZGWi",
        "colab_type": "code",
        "colab": {
          "base_uri": "https://localhost:8080/",
          "height": 340
        },
        "outputId": "26c0e9ba-5416-4649-9580-6c6d4563a6f2"
      },
      "source": [
        "data = pd.read_csv(\"drive/My Drive/Knight/Data/train.csv\")\n",
        "data.head(5)"
      ],
      "execution_count": 6,
      "outputs": [
        {
          "output_type": "execute_result",
          "data": {
            "text/html": [
              "<div>\n",
              "<style scoped>\n",
              "    .dataframe tbody tr th:only-of-type {\n",
              "        vertical-align: middle;\n",
              "    }\n",
              "\n",
              "    .dataframe tbody tr th {\n",
              "        vertical-align: top;\n",
              "    }\n",
              "\n",
              "    .dataframe thead th {\n",
              "        text-align: right;\n",
              "    }\n",
              "</style>\n",
              "<table border=\"1\" class=\"dataframe\">\n",
              "  <thead>\n",
              "    <tr style=\"text-align: right;\">\n",
              "      <th></th>\n",
              "      <th>user_name</th>\n",
              "      <th>country</th>\n",
              "      <th>review_title</th>\n",
              "      <th>review_description</th>\n",
              "      <th>designation</th>\n",
              "      <th>points</th>\n",
              "      <th>price</th>\n",
              "      <th>province</th>\n",
              "      <th>region_1</th>\n",
              "      <th>region_2</th>\n",
              "      <th>winery</th>\n",
              "      <th>variety</th>\n",
              "    </tr>\n",
              "  </thead>\n",
              "  <tbody>\n",
              "    <tr>\n",
              "      <th>0</th>\n",
              "      <td>NaN</td>\n",
              "      <td>Australia</td>\n",
              "      <td>Andrew Peace 2007 Peace Family Vineyard Chardo...</td>\n",
              "      <td>Classic Chardonnay aromas of apple, pear and h...</td>\n",
              "      <td>Peace Family Vineyard</td>\n",
              "      <td>83</td>\n",
              "      <td>10.0</td>\n",
              "      <td>Australia Other</td>\n",
              "      <td>South Eastern Australia</td>\n",
              "      <td>NaN</td>\n",
              "      <td>Andrew Peace</td>\n",
              "      <td>Chardonnay</td>\n",
              "    </tr>\n",
              "    <tr>\n",
              "      <th>1</th>\n",
              "      <td>@wawinereport</td>\n",
              "      <td>US</td>\n",
              "      <td>North by Northwest 2014 Red (Columbia Valley (...</td>\n",
              "      <td>This wine is near equal parts Syrah and Merlot...</td>\n",
              "      <td>NaN</td>\n",
              "      <td>89</td>\n",
              "      <td>15.0</td>\n",
              "      <td>Washington</td>\n",
              "      <td>Columbia Valley (WA)</td>\n",
              "      <td>Columbia Valley</td>\n",
              "      <td>North by Northwest</td>\n",
              "      <td>Red Blend</td>\n",
              "    </tr>\n",
              "    <tr>\n",
              "      <th>2</th>\n",
              "      <td>NaN</td>\n",
              "      <td>Italy</td>\n",
              "      <td>Renato Ratti 2007 Conca  (Barolo)</td>\n",
              "      <td>Barolo Conca opens with inky dark concentratio...</td>\n",
              "      <td>Conca</td>\n",
              "      <td>94</td>\n",
              "      <td>80.0</td>\n",
              "      <td>Piedmont</td>\n",
              "      <td>Barolo</td>\n",
              "      <td>NaN</td>\n",
              "      <td>Renato Ratti</td>\n",
              "      <td>Nebbiolo</td>\n",
              "    </tr>\n",
              "    <tr>\n",
              "      <th>3</th>\n",
              "      <td>@vossroger</td>\n",
              "      <td>France</td>\n",
              "      <td>Domaine l'Ancienne Cure 2010 L'Abbaye White (B...</td>\n",
              "      <td>It's impressive what a small addition of Sauvi...</td>\n",
              "      <td>L'Abbaye</td>\n",
              "      <td>87</td>\n",
              "      <td>22.0</td>\n",
              "      <td>Southwest France</td>\n",
              "      <td>Bergerac Sec</td>\n",
              "      <td>NaN</td>\n",
              "      <td>Domaine l'Ancienne Cure</td>\n",
              "      <td>Bordeaux-style White Blend</td>\n",
              "    </tr>\n",
              "    <tr>\n",
              "      <th>4</th>\n",
              "      <td>@vossroger</td>\n",
              "      <td>France</td>\n",
              "      <td>Château du Cèdre 2012 Le Cèdre Vintage Malbec ...</td>\n",
              "      <td>This ripe, sweet wine is rich and full of drie...</td>\n",
              "      <td>Le Cèdre Vintage</td>\n",
              "      <td>88</td>\n",
              "      <td>33.0</td>\n",
              "      <td>France Other</td>\n",
              "      <td>Vin de Liqueur</td>\n",
              "      <td>NaN</td>\n",
              "      <td>Château du Cèdre</td>\n",
              "      <td>Malbec</td>\n",
              "    </tr>\n",
              "  </tbody>\n",
              "</table>\n",
              "</div>"
            ],
            "text/plain": [
              "       user_name  ...                     variety\n",
              "0            NaN  ...                  Chardonnay\n",
              "1  @wawinereport  ...                   Red Blend\n",
              "2            NaN  ...                    Nebbiolo\n",
              "3     @vossroger  ...  Bordeaux-style White Blend\n",
              "4     @vossroger  ...                      Malbec\n",
              "\n",
              "[5 rows x 12 columns]"
            ]
          },
          "metadata": {
            "tags": []
          },
          "execution_count": 6
        }
      ]
    },
    {
      "cell_type": "code",
      "metadata": {
        "id": "x8nKsqe1ZbtG",
        "colab_type": "code",
        "colab": {}
      },
      "source": [
        "data_sel = data.drop(['user_name','designation','points','region_2',], axis = 1)"
      ],
      "execution_count": 0,
      "outputs": []
    },
    {
      "cell_type": "markdown",
      "metadata": {
        "id": "pG5fZt3kajHt",
        "colab_type": "text"
      },
      "source": [
        "user_name, designation ,point and region_2 will have no impact on prediction of grape type for wine ."
      ]
    },
    {
      "cell_type": "markdown",
      "metadata": {
        "id": "IW5HxczhaYl_",
        "colab_type": "text"
      },
      "source": [
        ""
      ]
    },
    {
      "cell_type": "code",
      "metadata": {
        "id": "7nyQO1qOZpsE",
        "colab_type": "code",
        "colab": {
          "base_uri": "https://localhost:8080/",
          "height": 34
        },
        "outputId": "a8147d28-5e4f-4c5a-f594-b0911beaf1dc"
      },
      "source": [
        "data_sel.shape\n"
      ],
      "execution_count": 8,
      "outputs": [
        {
          "output_type": "execute_result",
          "data": {
            "text/plain": [
              "(82657, 8)"
            ]
          },
          "metadata": {
            "tags": []
          },
          "execution_count": 8
        }
      ]
    },
    {
      "cell_type": "code",
      "metadata": {
        "id": "x4XzvIyQZsYu",
        "colab_type": "code",
        "colab": {}
      },
      "source": [
        "data_single = data_sel.drop_duplicates('review_description')\n"
      ],
      "execution_count": 0,
      "outputs": []
    },
    {
      "cell_type": "code",
      "metadata": {
        "id": "wq_AXBKFZv4N",
        "colab_type": "code",
        "colab": {
          "base_uri": "https://localhost:8080/",
          "height": 34
        },
        "outputId": "0ea56d4e-3974-49eb-aa6e-62673bd9cb41"
      },
      "source": [
        "data_single.shape\n"
      ],
      "execution_count": 11,
      "outputs": [
        {
          "output_type": "execute_result",
          "data": {
            "text/plain": [
              "(77628, 8)"
            ]
          },
          "metadata": {
            "tags": []
          },
          "execution_count": 11
        }
      ]
    },
    {
      "cell_type": "markdown",
      "metadata": {
        "id": "Ptge8eGEZ9Xy",
        "colab_type": "text"
      },
      "source": [
        "There were quite a few duplicates. There were either duplicates of some wines or the different vintages of the same wine had the same description. Now we have 77628 unique samples. Most of the times, these kind of data bases are not fully filled, therefore we might have some NAs in features we are interested in: description, variety (and maybe price)."
      ]
    },
    {
      "cell_type": "code",
      "metadata": {
        "id": "-1jsQynGZ1cL",
        "colab_type": "code",
        "colab": {}
      },
      "source": [
        "data_single = data_single.dropna(subset=['review_description', 'variety', 'price'])"
      ],
      "execution_count": 0,
      "outputs": []
    },
    {
      "cell_type": "code",
      "metadata": {
        "id": "XF29V-PeaMqy",
        "colab_type": "code",
        "colab": {
          "base_uri": "https://localhost:8080/",
          "height": 390
        },
        "outputId": "9bbdc2f7-d654-43cb-9678-b6774bd9dfaf"
      },
      "source": [
        "data_single.describe(include='all')\n"
      ],
      "execution_count": 13,
      "outputs": [
        {
          "output_type": "execute_result",
          "data": {
            "text/html": [
              "<div>\n",
              "<style scoped>\n",
              "    .dataframe tbody tr th:only-of-type {\n",
              "        vertical-align: middle;\n",
              "    }\n",
              "\n",
              "    .dataframe tbody tr th {\n",
              "        vertical-align: top;\n",
              "    }\n",
              "\n",
              "    .dataframe thead th {\n",
              "        text-align: right;\n",
              "    }\n",
              "</style>\n",
              "<table border=\"1\" class=\"dataframe\">\n",
              "  <thead>\n",
              "    <tr style=\"text-align: right;\">\n",
              "      <th></th>\n",
              "      <th>country</th>\n",
              "      <th>review_title</th>\n",
              "      <th>review_description</th>\n",
              "      <th>price</th>\n",
              "      <th>province</th>\n",
              "      <th>region_1</th>\n",
              "      <th>winery</th>\n",
              "      <th>variety</th>\n",
              "    </tr>\n",
              "  </thead>\n",
              "  <tbody>\n",
              "    <tr>\n",
              "      <th>count</th>\n",
              "      <td>72315</td>\n",
              "      <td>72344</td>\n",
              "      <td>72344</td>\n",
              "      <td>72344.000000</td>\n",
              "      <td>72315</td>\n",
              "      <td>61194</td>\n",
              "      <td>72344</td>\n",
              "      <td>72344</td>\n",
              "    </tr>\n",
              "    <tr>\n",
              "      <th>unique</th>\n",
              "      <td>38</td>\n",
              "      <td>71793</td>\n",
              "      <td>72344</td>\n",
              "      <td>NaN</td>\n",
              "      <td>351</td>\n",
              "      <td>995</td>\n",
              "      <td>13083</td>\n",
              "      <td>28</td>\n",
              "    </tr>\n",
              "    <tr>\n",
              "      <th>top</th>\n",
              "      <td>US</td>\n",
              "      <td>Segura Viudas NV Extra Dry Sparkling (Cava)</td>\n",
              "      <td>Pale straw in the glass, this wine has aromas ...</td>\n",
              "      <td>NaN</td>\n",
              "      <td>California</td>\n",
              "      <td>Napa Valley</td>\n",
              "      <td>Testarossa</td>\n",
              "      <td>Pinot Noir</td>\n",
              "    </tr>\n",
              "    <tr>\n",
              "      <th>freq</th>\n",
              "      <td>36108</td>\n",
              "      <td>7</td>\n",
              "      <td>1</td>\n",
              "      <td>NaN</td>\n",
              "      <td>24176</td>\n",
              "      <td>3147</td>\n",
              "      <td>165</td>\n",
              "      <td>9609</td>\n",
              "    </tr>\n",
              "    <tr>\n",
              "      <th>mean</th>\n",
              "      <td>NaN</td>\n",
              "      <td>NaN</td>\n",
              "      <td>NaN</td>\n",
              "      <td>37.138892</td>\n",
              "      <td>NaN</td>\n",
              "      <td>NaN</td>\n",
              "      <td>NaN</td>\n",
              "      <td>NaN</td>\n",
              "    </tr>\n",
              "    <tr>\n",
              "      <th>std</th>\n",
              "      <td>NaN</td>\n",
              "      <td>NaN</td>\n",
              "      <td>NaN</td>\n",
              "      <td>44.627663</td>\n",
              "      <td>NaN</td>\n",
              "      <td>NaN</td>\n",
              "      <td>NaN</td>\n",
              "      <td>NaN</td>\n",
              "    </tr>\n",
              "    <tr>\n",
              "      <th>min</th>\n",
              "      <td>NaN</td>\n",
              "      <td>NaN</td>\n",
              "      <td>NaN</td>\n",
              "      <td>4.000000</td>\n",
              "      <td>NaN</td>\n",
              "      <td>NaN</td>\n",
              "      <td>NaN</td>\n",
              "      <td>NaN</td>\n",
              "    </tr>\n",
              "    <tr>\n",
              "      <th>25%</th>\n",
              "      <td>NaN</td>\n",
              "      <td>NaN</td>\n",
              "      <td>NaN</td>\n",
              "      <td>17.000000</td>\n",
              "      <td>NaN</td>\n",
              "      <td>NaN</td>\n",
              "      <td>NaN</td>\n",
              "      <td>NaN</td>\n",
              "    </tr>\n",
              "    <tr>\n",
              "      <th>50%</th>\n",
              "      <td>NaN</td>\n",
              "      <td>NaN</td>\n",
              "      <td>NaN</td>\n",
              "      <td>27.000000</td>\n",
              "      <td>NaN</td>\n",
              "      <td>NaN</td>\n",
              "      <td>NaN</td>\n",
              "      <td>NaN</td>\n",
              "    </tr>\n",
              "    <tr>\n",
              "      <th>75%</th>\n",
              "      <td>NaN</td>\n",
              "      <td>NaN</td>\n",
              "      <td>NaN</td>\n",
              "      <td>45.000000</td>\n",
              "      <td>NaN</td>\n",
              "      <td>NaN</td>\n",
              "      <td>NaN</td>\n",
              "      <td>NaN</td>\n",
              "    </tr>\n",
              "    <tr>\n",
              "      <th>max</th>\n",
              "      <td>NaN</td>\n",
              "      <td>NaN</td>\n",
              "      <td>NaN</td>\n",
              "      <td>3300.000000</td>\n",
              "      <td>NaN</td>\n",
              "      <td>NaN</td>\n",
              "      <td>NaN</td>\n",
              "      <td>NaN</td>\n",
              "    </tr>\n",
              "  </tbody>\n",
              "</table>\n",
              "</div>"
            ],
            "text/plain": [
              "       country  ...     variety\n",
              "count    72315  ...       72344\n",
              "unique      38  ...          28\n",
              "top         US  ...  Pinot Noir\n",
              "freq     36108  ...        9609\n",
              "mean       NaN  ...         NaN\n",
              "std        NaN  ...         NaN\n",
              "min        NaN  ...         NaN\n",
              "25%        NaN  ...         NaN\n",
              "50%        NaN  ...         NaN\n",
              "75%        NaN  ...         NaN\n",
              "max        NaN  ...         NaN\n",
              "\n",
              "[11 rows x 8 columns]"
            ]
          },
          "metadata": {
            "tags": []
          },
          "execution_count": 13
        }
      ]
    },
    {
      "cell_type": "code",
      "metadata": {
        "id": "rfu_URv_aQ17",
        "colab_type": "code",
        "colab": {}
      },
      "source": [
        "for col in ['variety', 'review_description', 'province', 'region_1', 'winery', 'country']:\n",
        "    data_single[col] = data_single[col].str.lower()"
      ],
      "execution_count": 0,
      "outputs": []
    },
    {
      "cell_type": "markdown",
      "metadata": {
        "id": "OB8BnFiWagrK",
        "colab_type": "text"
      },
      "source": [
        "We have left country, province, region_1 and winery in as features, because they will serve as stop words to be removed from the description column, to try to decrease the chance of having any hints in the description about grape type. The price could be used as a feature to predict grape types"
      ]
    },
    {
      "cell_type": "code",
      "metadata": {
        "id": "xjKyBsZZazlW",
        "colab_type": "code",
        "colab": {}
      },
      "source": [
        "#uni decode text \n",
        "def unidecode_text(text):\n",
        "    try:\n",
        "        #pdb.set_trace()\n",
        "        text = unidecode.unidecode(text)\n",
        "    except:\n",
        "        pass\n",
        "    return text"
      ],
      "execution_count": 0,
      "outputs": []
    },
    {
      "cell_type": "code",
      "metadata": {
        "id": "tPKbnVD0a4ra",
        "colab_type": "code",
        "colab": {}
      },
      "source": [
        "for col in ['review_description', 'variety', 'province', 'winery']:\n",
        "    data_single[col] = data_single.apply(lambda row: unidecode_text(row[col]), axis=1)"
      ],
      "execution_count": 0,
      "outputs": []
    },
    {
      "cell_type": "code",
      "metadata": {
        "id": "U6-g36oVa-bJ",
        "colab_type": "code",
        "colab": {}
      },
      "source": [
        "filtered_name = ['red blend', 'portuguese red', 'white blend', 'sparkling blend', 'champagne blend', \n",
        "                 'portuguese white', 'rose', 'bordeaux-style red blend', 'rhone-style red blend',\n",
        "                 'bordeaux-style white blend', 'alsace white blend', 'austrian red blend',\n",
        "                 'austrian white blend', 'cabernet blend', 'malbec blend', 'portuguese rose',\n",
        "                 'portuguese sparkling', 'provence red blend', 'provence white blend',\n",
        "                 'rhone-style white blend', 'tempranillo blend', 'grenache blend',\n",
        "                 'meritage' # beaurdaux blend\n",
        "                ]"
      ],
      "execution_count": 0,
      "outputs": []
    },
    {
      "cell_type": "markdown",
      "metadata": {
        "id": "Qei-OeEObbhM",
        "colab_type": "text"
      },
      "source": [
        "A blended wine refers to a mixture of different grapes (not necessarily having a concensus on what grapes are included). We find it too ambitious to have a classifier that could correctly identify these wines, therefore we simply remove those samples that are labelled blends"
      ]
    },
    {
      "cell_type": "code",
      "metadata": {
        "id": "lQoCtkyUbaxG",
        "colab_type": "code",
        "colab": {}
      },
      "source": [
        "data_filtered = data_single.copy()\n",
        "data_filtered = data_filtered[~data_filtered['variety'].isin(filtered_name)]"
      ],
      "execution_count": 0,
      "outputs": []
    },
    {
      "cell_type": "code",
      "metadata": {
        "id": "5FHtJhjZbg8A",
        "colab_type": "code",
        "colab": {
          "base_uri": "https://localhost:8080/",
          "height": 34
        },
        "outputId": "135a7090-0bf2-4161-a740-1c27e7f07999"
      },
      "source": [
        "len(data_filtered.variety.value_counts())"
      ],
      "execution_count": 20,
      "outputs": [
        {
          "output_type": "execute_result",
          "data": {
            "text/plain": [
              "18"
            ]
          },
          "metadata": {
            "tags": []
          },
          "execution_count": 20
        }
      ]
    },
    {
      "cell_type": "code",
      "metadata": {
        "id": "B0GihI37buIb",
        "colab_type": "code",
        "colab": {
          "base_uri": "https://localhost:8080/",
          "height": 34
        },
        "outputId": "091e45a0-7de9-4f79-8393-5c71c6e28d90"
      },
      "source": [
        "data_reduced = data_filtered.groupby('variety').filter(lambda x: len(x) > 200)\n",
        "data_reduced.shape"
      ],
      "execution_count": 21,
      "outputs": [
        {
          "output_type": "execute_result",
          "data": {
            "text/plain": [
              "(51585, 8)"
            ]
          },
          "metadata": {
            "tags": []
          },
          "execution_count": 21
        }
      ]
    },
    {
      "cell_type": "code",
      "metadata": {
        "id": "VVDHqnHub7Vn",
        "colab_type": "code",
        "colab": {}
      },
      "source": [
        "grapes = list(np.unique(data_reduced.variety.value_counts().index.tolist()))"
      ],
      "execution_count": 0,
      "outputs": []
    },
    {
      "cell_type": "code",
      "metadata": {
        "id": "a27fZmxhcAK2",
        "colab_type": "code",
        "colab": {
          "base_uri": "https://localhost:8080/",
          "height": 323
        },
        "outputId": "43c11f8e-58bc-4bce-dd10-37a8100ad26c"
      },
      "source": [
        "grapes"
      ],
      "execution_count": 23,
      "outputs": [
        {
          "output_type": "execute_result",
          "data": {
            "text/plain": [
              "['cabernet franc',\n",
              " 'cabernet sauvignon',\n",
              " 'chardonnay',\n",
              " 'gamay',\n",
              " 'gewurztraminer',\n",
              " 'gruner veltliner',\n",
              " 'malbec',\n",
              " 'merlot',\n",
              " 'nebbiolo',\n",
              " 'pinot grigio',\n",
              " 'pinot gris',\n",
              " 'pinot noir',\n",
              " 'riesling',\n",
              " 'sangiovese',\n",
              " 'sauvignon blanc',\n",
              " 'syrah',\n",
              " 'tempranillo',\n",
              " 'zinfandel']"
            ]
          },
          "metadata": {
            "tags": []
          },
          "execution_count": 23
        }
      ]
    },
    {
      "cell_type": "code",
      "metadata": {
        "id": "3k0DvmG_cc1U",
        "colab_type": "code",
        "colab": {}
      },
      "source": [
        "data_input = data_reduced.copy()\n",
        "# data_input['colour'] = data_input.apply(lambda row: colour_map[row['variety']], axis=1)\n",
        "data_dummies = pd.get_dummies(data_input['variety'])\n",
        "data_input = data_input.merge(data_dummies, left_index=True, right_index=True)"
      ],
      "execution_count": 0,
      "outputs": []
    },
    {
      "cell_type": "code",
      "metadata": {
        "id": "scR6jiUhcoTn",
        "colab_type": "code",
        "colab": {
          "base_uri": "https://localhost:8080/",
          "height": 530
        },
        "outputId": "405946c3-5e09-4190-aba3-d4035a8ee9de"
      },
      "source": [
        "data_input.head()"
      ],
      "execution_count": 32,
      "outputs": [
        {
          "output_type": "execute_result",
          "data": {
            "text/html": [
              "<div>\n",
              "<style scoped>\n",
              "    .dataframe tbody tr th:only-of-type {\n",
              "        vertical-align: middle;\n",
              "    }\n",
              "\n",
              "    .dataframe tbody tr th {\n",
              "        vertical-align: top;\n",
              "    }\n",
              "\n",
              "    .dataframe thead th {\n",
              "        text-align: right;\n",
              "    }\n",
              "</style>\n",
              "<table border=\"1\" class=\"dataframe\">\n",
              "  <thead>\n",
              "    <tr style=\"text-align: right;\">\n",
              "      <th></th>\n",
              "      <th>country</th>\n",
              "      <th>review_title</th>\n",
              "      <th>review_description</th>\n",
              "      <th>price</th>\n",
              "      <th>province</th>\n",
              "      <th>region_1</th>\n",
              "      <th>winery</th>\n",
              "      <th>variety</th>\n",
              "      <th>cabernet franc</th>\n",
              "      <th>cabernet sauvignon</th>\n",
              "      <th>chardonnay</th>\n",
              "      <th>gamay</th>\n",
              "      <th>gewurztraminer</th>\n",
              "      <th>gruner veltliner</th>\n",
              "      <th>malbec</th>\n",
              "      <th>merlot</th>\n",
              "      <th>nebbiolo</th>\n",
              "      <th>pinot grigio</th>\n",
              "      <th>pinot gris</th>\n",
              "      <th>pinot noir</th>\n",
              "      <th>riesling</th>\n",
              "      <th>sangiovese</th>\n",
              "      <th>sauvignon blanc</th>\n",
              "      <th>syrah</th>\n",
              "      <th>tempranillo</th>\n",
              "      <th>zinfandel</th>\n",
              "    </tr>\n",
              "  </thead>\n",
              "  <tbody>\n",
              "    <tr>\n",
              "      <th>0</th>\n",
              "      <td>australia</td>\n",
              "      <td>Andrew Peace 2007 Peace Family Vineyard Chardo...</td>\n",
              "      <td>classic chardonnay aromas of apple, pear and h...</td>\n",
              "      <td>10.0</td>\n",
              "      <td>australia other</td>\n",
              "      <td>south eastern australia</td>\n",
              "      <td>andrew peace</td>\n",
              "      <td>chardonnay</td>\n",
              "      <td>0</td>\n",
              "      <td>0</td>\n",
              "      <td>1</td>\n",
              "      <td>0</td>\n",
              "      <td>0</td>\n",
              "      <td>0</td>\n",
              "      <td>0</td>\n",
              "      <td>0</td>\n",
              "      <td>0</td>\n",
              "      <td>0</td>\n",
              "      <td>0</td>\n",
              "      <td>0</td>\n",
              "      <td>0</td>\n",
              "      <td>0</td>\n",
              "      <td>0</td>\n",
              "      <td>0</td>\n",
              "      <td>0</td>\n",
              "      <td>0</td>\n",
              "    </tr>\n",
              "    <tr>\n",
              "      <th>2</th>\n",
              "      <td>italy</td>\n",
              "      <td>Renato Ratti 2007 Conca  (Barolo)</td>\n",
              "      <td>barolo conca opens with inky dark concentratio...</td>\n",
              "      <td>80.0</td>\n",
              "      <td>piedmont</td>\n",
              "      <td>barolo</td>\n",
              "      <td>renato ratti</td>\n",
              "      <td>nebbiolo</td>\n",
              "      <td>0</td>\n",
              "      <td>0</td>\n",
              "      <td>0</td>\n",
              "      <td>0</td>\n",
              "      <td>0</td>\n",
              "      <td>0</td>\n",
              "      <td>0</td>\n",
              "      <td>0</td>\n",
              "      <td>1</td>\n",
              "      <td>0</td>\n",
              "      <td>0</td>\n",
              "      <td>0</td>\n",
              "      <td>0</td>\n",
              "      <td>0</td>\n",
              "      <td>0</td>\n",
              "      <td>0</td>\n",
              "      <td>0</td>\n",
              "      <td>0</td>\n",
              "    </tr>\n",
              "    <tr>\n",
              "      <th>4</th>\n",
              "      <td>france</td>\n",
              "      <td>Château du Cèdre 2012 Le Cèdre Vintage Malbec ...</td>\n",
              "      <td>this ripe, sweet wine is rich and full of drie...</td>\n",
              "      <td>33.0</td>\n",
              "      <td>france other</td>\n",
              "      <td>vin de liqueur</td>\n",
              "      <td>chateau du cedre</td>\n",
              "      <td>malbec</td>\n",
              "      <td>0</td>\n",
              "      <td>0</td>\n",
              "      <td>0</td>\n",
              "      <td>0</td>\n",
              "      <td>0</td>\n",
              "      <td>0</td>\n",
              "      <td>1</td>\n",
              "      <td>0</td>\n",
              "      <td>0</td>\n",
              "      <td>0</td>\n",
              "      <td>0</td>\n",
              "      <td>0</td>\n",
              "      <td>0</td>\n",
              "      <td>0</td>\n",
              "      <td>0</td>\n",
              "      <td>0</td>\n",
              "      <td>0</td>\n",
              "      <td>0</td>\n",
              "    </tr>\n",
              "    <tr>\n",
              "      <th>5</th>\n",
              "      <td>argentina</td>\n",
              "      <td>Andean 2005 Finca La Escondida Reserva Caberne...</td>\n",
              "      <td>strident aromas of licorice, herbs, berries an...</td>\n",
              "      <td>13.0</td>\n",
              "      <td>other</td>\n",
              "      <td>san juan</td>\n",
              "      <td>andean</td>\n",
              "      <td>cabernet sauvignon</td>\n",
              "      <td>0</td>\n",
              "      <td>1</td>\n",
              "      <td>0</td>\n",
              "      <td>0</td>\n",
              "      <td>0</td>\n",
              "      <td>0</td>\n",
              "      <td>0</td>\n",
              "      <td>0</td>\n",
              "      <td>0</td>\n",
              "      <td>0</td>\n",
              "      <td>0</td>\n",
              "      <td>0</td>\n",
              "      <td>0</td>\n",
              "      <td>0</td>\n",
              "      <td>0</td>\n",
              "      <td>0</td>\n",
              "      <td>0</td>\n",
              "      <td>0</td>\n",
              "    </tr>\n",
              "    <tr>\n",
              "      <th>7</th>\n",
              "      <td>us</td>\n",
              "      <td>Rock Wall 2014 Monte Rosso Reserve Zinfandel (...</td>\n",
              "      <td>high-toned red fruit stars in this wine, a nic...</td>\n",
              "      <td>50.0</td>\n",
              "      <td>california</td>\n",
              "      <td>sonoma county</td>\n",
              "      <td>rock wall</td>\n",
              "      <td>zinfandel</td>\n",
              "      <td>0</td>\n",
              "      <td>0</td>\n",
              "      <td>0</td>\n",
              "      <td>0</td>\n",
              "      <td>0</td>\n",
              "      <td>0</td>\n",
              "      <td>0</td>\n",
              "      <td>0</td>\n",
              "      <td>0</td>\n",
              "      <td>0</td>\n",
              "      <td>0</td>\n",
              "      <td>0</td>\n",
              "      <td>0</td>\n",
              "      <td>0</td>\n",
              "      <td>0</td>\n",
              "      <td>0</td>\n",
              "      <td>0</td>\n",
              "      <td>1</td>\n",
              "    </tr>\n",
              "  </tbody>\n",
              "</table>\n",
              "</div>"
            ],
            "text/plain": [
              "     country  ... zinfandel\n",
              "0  australia  ...         0\n",
              "2      italy  ...         0\n",
              "4     france  ...         0\n",
              "5  argentina  ...         0\n",
              "7         us  ...         1\n",
              "\n",
              "[5 rows x 26 columns]"
            ]
          },
          "metadata": {
            "tags": []
          },
          "execution_count": 32
        }
      ]
    },
    {
      "cell_type": "code",
      "metadata": {
        "id": "9WDgJXZ8dK4I",
        "colab_type": "code",
        "colab": {}
      },
      "source": [
        "data_input.reset_index(inplace=True)\n"
      ],
      "execution_count": 0,
      "outputs": []
    },
    {
      "cell_type": "code",
      "metadata": {
        "id": "QG08hBscdytX",
        "colab_type": "code",
        "colab": {}
      },
      "source": [
        "# stop words for countries\n",
        "stop_country = list(np.unique(data_input.country.dropna().str.lower().tolist()))\n",
        "\n",
        "#stop words for province\n",
        "stop_province = list(np.unique(data_input.province.dropna().str.lower().tolist()))\n",
        "\n",
        "#stop words for winery\n",
        "stop_winery = list(np.unique(data_input.winery.dropna().str.lower().tolist()))"
      ],
      "execution_count": 0,
      "outputs": []
    },
    {
      "cell_type": "code",
      "metadata": {
        "id": "3AfJKscmd47V",
        "colab_type": "code",
        "colab": {}
      },
      "source": [
        "stop_words = stopwords.words('english')\n",
        "stop_append = ['.', ',', '`', '\"', \"'\", '!', ';', 'wine', 'fruit', '%', 'flavour', 'aromas', 'palate']\n",
        "stop_words1 = stop_words + stop_append + grapes + stop_country + stop_province + stop_winery"
      ],
      "execution_count": 0,
      "outputs": []
    },
    {
      "cell_type": "code",
      "metadata": {
        "id": "L4GoHoZ_d9VP",
        "colab_type": "code",
        "colab": {}
      },
      "source": [
        "defTags = ['NN', 'NNS', 'NNP', 'NNPS', 'JJ', 'JJS', 'JJR']#, 'RB', 'RBS', 'RBR', 'VB', 'VBD', 'VBG', 'VBN', 'VBP', 'VBZ']\n",
        "\n",
        "# functions to determine the type of a word\n",
        "def is_noun(tag):\n",
        "    return tag in ['NN', 'NNS', 'NNP', 'NNPS']\n",
        "\n",
        "\n",
        "def is_verb(tag):\n",
        "    return tag in ['VB', 'VBD', 'VBG', 'VBN', 'VBP', 'VBZ']\n",
        "\n",
        "\n",
        "def is_adverb(tag):\n",
        "    return tag in ['RB', 'RBR', 'RBS']\n"
      ],
      "execution_count": 0,
      "outputs": []
    },
    {
      "cell_type": "code",
      "metadata": {
        "id": "wKDyNUR0efnG",
        "colab_type": "code",
        "colab": {}
      },
      "source": [
        "def is_adjective(tag):\n",
        "    return tag in ['JJ', 'JJR', 'JJS']\n",
        "\n",
        "# transform tag forms\n",
        "def penn_to_wn(tag):\n",
        "    if is_adjective(tag):\n",
        "        return nltk.stem.wordnet.wordnet.ADJ\n",
        "    elif is_noun(tag):\n",
        "        return nltk.stem.wordnet.wordnet.NOUN\n",
        "    elif is_adverb(tag):\n",
        "        return nltk.stem.wordnet.wordnet.ADV\n",
        "    elif is_verb(tag):\n",
        "        return nltk.stem.wordnet.wordnet.VERB\n",
        "    return nltk.stem.wordnet.wordnet.NOUN\n",
        "    "
      ],
      "execution_count": 0,
      "outputs": []
    },
    {
      "cell_type": "code",
      "metadata": {
        "id": "WP0V518keiaw",
        "colab_type": "code",
        "colab": {}
      },
      "source": [
        "# lemmatizer + tokenizer + stemmingclass\n",
        "class LemmaTokenizer(object):\n",
        "    def __init__(self):\n",
        "        self.wnl = WordNetLemmatizer()\n",
        "        # we define (but not use) a stemming method, uncomment the last line in __call__ to get stemming tooo\n",
        "        self.stemmer = nltk.stem.SnowballStemmer('english') \n",
        "    def __call__(self, doc):\n",
        "        # pattern for numbers | words of length=2 | punctuations | words of length=1\n",
        "        pattern = re.compile(r'[0-9]+|\\b[\\w]{2,2}\\b|[%.,_`!\"&?\\')({~@;:#}+-]+|\\b[\\w]{1,1}\\b')\n",
        "        # tokenize document\n",
        "        doc_tok = word_tokenize(doc)\n",
        "        #filter out patterns from words\n",
        "        doc_tok = [x for x in doc_tok if x not in stop_words1]\n",
        "        doc_tok = [pattern.sub('', x) for x in doc_tok]\n",
        "        # get rid of anything with length=1\n",
        "        doc_tok = [x for x in doc_tok if len(x) > 1]\n",
        "        # position tagging\n",
        "        doc_tagged = nltk.pos_tag(doc_tok)\n",
        "        # selecting nouns and adjectives\n",
        "        doc_tagged = [(t[0], t[1]) for t in doc_tagged if t[1] in defTags]\n",
        "        # preparing lemmatization\n",
        "        doc = [(t[0], penn_to_wn(t[1])) for t in doc_tagged]\n",
        "        # lemmatization\n",
        "        doc = [self.wnl.lemmatize(t[0], t[1]) for t in doc]\n",
        "        # uncomment if you want stemming as well\n",
        "        #doc = [self.stemmer.stem(x) for x in doc]\n",
        "        return doc"
      ],
      "execution_count": 0,
      "outputs": []
    },
    {
      "cell_type": "code",
      "metadata": {
        "id": "Glqm33Uxfy1E",
        "colab_type": "code",
        "colab": {}
      },
      "source": [
        "class NumberSelector(BaseEstimator, TransformerMixin):\n",
        "    \"\"\"\n",
        "    Transformer to select a single column from the data frame to perform additional transformations on\n",
        "    Use on numeric columns in the data\n",
        "    \"\"\"\n",
        "    def __init__(self, key):\n",
        "        self.key = key\n",
        "\n",
        "    def fit(self, X, y=None):\n",
        "        return self\n",
        "\n",
        "    def transform(self, X):\n",
        "        # returns the input as a dataframe\n",
        "        return X[[self.key]]"
      ],
      "execution_count": 0,
      "outputs": []
    },
    {
      "cell_type": "code",
      "metadata": {
        "id": "UBYnSgJ7f3wL",
        "colab_type": "code",
        "colab": {}
      },
      "source": [
        "class TextSelector(BaseEstimator, TransformerMixin):\n",
        "    def __init__(self, key):\n",
        "        self.key = key\n",
        "\n",
        "    def fit(self, X, y=None, *parg, **kwarg):\n",
        "        return self\n",
        "\n",
        "    def transform(self, X):\n",
        "        # returns the input as a string\n",
        "        return X[self.key]"
      ],
      "execution_count": 0,
      "outputs": []
    },
    {
      "cell_type": "code",
      "metadata": {
        "id": "aWweh9YqfSiV",
        "colab_type": "code",
        "colab": {}
      },
      "source": [
        "vec_tdidf = TfidfVectorizer(ngram_range=(1,1), analyzer='word', #stop_words=stop_words1, \n",
        "                                               norm='l2', tokenizer=LemmaTokenizer())"
      ],
      "execution_count": 0,
      "outputs": []
    },
    {
      "cell_type": "markdown",
      "metadata": {
        "id": "IfOyTOA0fbna",
        "colab_type": "text"
      },
      "source": [
        "Word vectorizer TF IDF"
      ]
    },
    {
      "cell_type": "code",
      "metadata": {
        "id": "zb6ZfA96fhkY",
        "colab_type": "code",
        "colab": {}
      },
      "source": [
        "clf = XGBClassifier(random_state=42, seed=2, colsample_bytree=0.6, subsample=0.7,max_depth=3,n_estimators= 300)"
      ],
      "execution_count": 0,
      "outputs": []
    },
    {
      "cell_type": "code",
      "metadata": {
        "id": "q3PeJDurftN8",
        "colab_type": "code",
        "colab": {}
      },
      "source": [
        "def print_stats(preds, target, labels, sep='-', sep_len=40, fig_size=(10,8)):\n",
        "    print('Accuracy = %.3f' % metrics.accuracy_score(target, preds))\n",
        "    print(sep*sep_len)\n",
        "    print('Classification report:')\n",
        "    print(metrics.classification_report(target, preds))\n",
        "    print(sep*sep_len)\n",
        "    print('Confusion matrix')\n",
        "    cm=metrics.confusion_matrix(target, preds)\n",
        "    cm = cm / np.sum(cm, axis=1)[:,None]\n",
        "    sns.set(rc={'figure.figsize':fig_size})\n",
        "    sns.heatmap(cm, \n",
        "        xticklabels=labels,\n",
        "        yticklabels=labels,\n",
        "           annot=True, cmap = 'YlGnBu')\n",
        "    plt.pause(0.05)"
      ],
      "execution_count": 0,
      "outputs": []
    },
    {
      "cell_type": "code",
      "metadata": {
        "id": "Yh2irI8uf-k3",
        "colab_type": "code",
        "colab": {}
      },
      "source": [
        "text = Pipeline([\n",
        "                ('selector', TextSelector(key='review_description')),\n",
        "                ('vectorizer', vec_tdidf)\n",
        "                ])"
      ],
      "execution_count": 0,
      "outputs": []
    },
    {
      "cell_type": "markdown",
      "metadata": {
        "id": "px3NmYCQgEro",
        "colab_type": "text"
      },
      "source": [
        "Pipeline "
      ]
    },
    {
      "cell_type": "code",
      "metadata": {
        "id": "S9-bMrVSgB-t",
        "colab_type": "code",
        "colab": {}
      },
      "source": [
        "feats = FeatureUnion([('review_description', text),\n",
        "                    \n",
        "                      ])"
      ],
      "execution_count": 0,
      "outputs": []
    },
    {
      "cell_type": "code",
      "metadata": {
        "id": "M9YkhPLagTEH",
        "colab_type": "code",
        "colab": {}
      },
      "source": [
        "pipe = Pipeline([('feats', feats),\n",
        "                 ('clf',clf)\n",
        "                 ])\n",
        "\n"
      ],
      "execution_count": 0,
      "outputs": []
    },
    {
      "cell_type": "code",
      "metadata": {
        "id": "O29ApvC6gWRF",
        "colab_type": "code",
        "colab": {
          "base_uri": "https://localhost:8080/",
          "height": 408
        },
        "outputId": "5ad08db1-31a7-4398-eee6-416572a4184a"
      },
      "source": [
        "pipe.named_steps['clf'].get_params()\n"
      ],
      "execution_count": 79,
      "outputs": [
        {
          "output_type": "execute_result",
          "data": {
            "text/plain": [
              "{'base_score': 0.5,\n",
              " 'booster': 'gbtree',\n",
              " 'colsample_bylevel': 1,\n",
              " 'colsample_bynode': 1,\n",
              " 'colsample_bytree': 0.6,\n",
              " 'gamma': 0,\n",
              " 'learning_rate': 0.1,\n",
              " 'max_delta_step': 0,\n",
              " 'max_depth': 3,\n",
              " 'min_child_weight': 1,\n",
              " 'missing': None,\n",
              " 'n_estimators': 300,\n",
              " 'n_jobs': 1,\n",
              " 'nthread': None,\n",
              " 'objective': 'binary:logistic',\n",
              " 'random_state': 42,\n",
              " 'reg_alpha': 0,\n",
              " 'reg_lambda': 1,\n",
              " 'scale_pos_weight': 1,\n",
              " 'seed': 2,\n",
              " 'silent': None,\n",
              " 'subsample': 0.7,\n",
              " 'verbosity': 1}"
            ]
          },
          "metadata": {
            "tags": []
          },
          "execution_count": 79
        }
      ]
    },
    {
      "cell_type": "markdown",
      "metadata": {
        "id": "MNq0ZHNigaeO",
        "colab_type": "text"
      },
      "source": [
        "Hyper parameters"
      ]
    },
    {
      "cell_type": "code",
      "metadata": {
        "id": "vYbk8IeugY5q",
        "colab_type": "code",
        "colab": {}
      },
      "source": [
        "# split the data into train and test\n",
        "feature = ['review_description']\n",
        "target = 'variety'\n",
        "\n",
        "X_train, X_test, y_train, y_test = train_test_split(data_input[feature], data_input[target], \n",
        "                                                    test_size=0.33, random_state=42, stratify=data_input[target])"
      ],
      "execution_count": 0,
      "outputs": []
    },
    {
      "cell_type": "code",
      "metadata": {
        "id": "WXSTHVvprUEA",
        "colab_type": "code",
        "colab": {
          "base_uri": "https://localhost:8080/",
          "height": 54
        },
        "outputId": "4b7319ab-6f98-4696-c5b2-47080d7b6e42"
      },
      "source": [
        "pipe.get_params().keys()"
      ],
      "execution_count": 73,
      "outputs": [
        {
          "output_type": "execute_result",
          "data": {
            "text/plain": [
              "dict_keys(['memory', 'steps', 'verbose', 'feats', 'clf', 'feats__n_jobs', 'feats__transformer_list', 'feats__transformer_weights', 'feats__verbose', 'feats__review_description', 'feats__review_description__memory', 'feats__review_description__steps', 'feats__review_description__verbose', 'feats__review_description__selector', 'feats__review_description__vectorizer', 'feats__review_description__selector__key', 'feats__review_description__vectorizer__analyzer', 'feats__review_description__vectorizer__binary', 'feats__review_description__vectorizer__decode_error', 'feats__review_description__vectorizer__dtype', 'feats__review_description__vectorizer__encoding', 'feats__review_description__vectorizer__input', 'feats__review_description__vectorizer__lowercase', 'feats__review_description__vectorizer__max_df', 'feats__review_description__vectorizer__max_features', 'feats__review_description__vectorizer__min_df', 'feats__review_description__vectorizer__ngram_range', 'feats__review_description__vectorizer__norm', 'feats__review_description__vectorizer__preprocessor', 'feats__review_description__vectorizer__smooth_idf', 'feats__review_description__vectorizer__stop_words', 'feats__review_description__vectorizer__strip_accents', 'feats__review_description__vectorizer__sublinear_tf', 'feats__review_description__vectorizer__token_pattern', 'feats__review_description__vectorizer__tokenizer', 'feats__review_description__vectorizer__use_idf', 'feats__review_description__vectorizer__vocabulary', 'clf__base_score', 'clf__booster', 'clf__colsample_bylevel', 'clf__colsample_bynode', 'clf__colsample_bytree', 'clf__gamma', 'clf__learning_rate', 'clf__max_delta_step', 'clf__max_depth', 'clf__min_child_weight', 'clf__missing', 'clf__n_estimators', 'clf__n_jobs', 'clf__nthread', 'clf__objective', 'clf__random_state', 'clf__reg_alpha', 'clf__reg_lambda', 'clf__scale_pos_weight', 'clf__seed', 'clf__silent', 'clf__subsample', 'clf__verbosity'])"
            ]
          },
          "metadata": {
            "tags": []
          },
          "execution_count": 73
        }
      ]
    },
    {
      "cell_type": "code",
      "metadata": {
        "id": "rtrniMfPqprM",
        "colab_type": "code",
        "colab": {
          "base_uri": "https://localhost:8080/",
          "height": 476
        },
        "outputId": "39347f3f-bced-4b0b-b610-77f17bb9ca40"
      },
      "source": [
        "pipe.fit(X_train, y_train)"
      ],
      "execution_count": 81,
      "outputs": [
        {
          "output_type": "execute_result",
          "data": {
            "text/plain": [
              "Pipeline(memory=None,\n",
              "         steps=[('feats',\n",
              "                 FeatureUnion(n_jobs=None,\n",
              "                              transformer_list=[('review_description',\n",
              "                                                 Pipeline(memory=None,\n",
              "                                                          steps=[('selector',\n",
              "                                                                  TextSelector(key='review_description')),\n",
              "                                                                 ('vectorizer',\n",
              "                                                                  TfidfVectorizer(analyzer='word',\n",
              "                                                                                  binary=False,\n",
              "                                                                                  decode_error='strict',\n",
              "                                                                                  dtype=<class 'numpy.float64'>,\n",
              "                                                                                  encoding='utf-8',\n",
              "                                                                                  input='content',\n",
              "                                                                                  lowercase=True,\n",
              "                                                                                  max_df=1.0...\n",
              "                 XGBClassifier(base_score=0.5, booster='gbtree',\n",
              "                               colsample_bylevel=1, colsample_bynode=1,\n",
              "                               colsample_bytree=0.6, gamma=0, learning_rate=0.1,\n",
              "                               max_delta_step=0, max_depth=3,\n",
              "                               min_child_weight=1, missing=None,\n",
              "                               n_estimators=300, n_jobs=1, nthread=None,\n",
              "                               objective='multi:softprob', random_state=42,\n",
              "                               reg_alpha=0, reg_lambda=1, scale_pos_weight=1,\n",
              "                               seed=2, silent=None, subsample=0.7,\n",
              "                               verbosity=1))],\n",
              "         verbose=False)"
            ]
          },
          "metadata": {
            "tags": []
          },
          "execution_count": 81
        }
      ]
    },
    {
      "cell_type": "code",
      "metadata": {
        "id": "Pmj2qrH3sL73",
        "colab_type": "code",
        "colab": {}
      },
      "source": [
        "prediction = pipe.predict(X_test)"
      ],
      "execution_count": 0,
      "outputs": []
    },
    {
      "cell_type": "code",
      "metadata": {
        "id": "uAwDYN7VsYkF",
        "colab_type": "code",
        "colab": {
          "base_uri": "https://localhost:8080/",
          "height": 1000
        },
        "outputId": "657f15c5-f68d-4896-bdd7-3d6d56a6225c"
      },
      "source": [
        "print_stats(y_test, prediction, pipe.classes_)\n"
      ],
      "execution_count": 83,
      "outputs": [
        {
          "output_type": "stream",
          "text": [
            "Accuracy = 0.646\n",
            "----------------------------------------\n",
            "Classification report:\n",
            "                    precision    recall  f1-score   support\n",
            "\n",
            "    cabernet franc       0.33      0.78      0.46       139\n",
            "cabernet sauvignon       0.72      0.63      0.67      2681\n",
            "        chardonnay       0.92      0.63      0.75      4035\n",
            "             gamay       0.33      0.49      0.39       134\n",
            "    gewurztraminer       0.40      0.73      0.51       132\n",
            "  gruner veltliner       0.56      0.79      0.65       194\n",
            "            malbec       0.31      0.46      0.37       435\n",
            "            merlot       0.11      0.39      0.17       218\n",
            "          nebbiolo       0.66      0.75      0.70       508\n",
            "      pinot grigio       0.43      0.87      0.57       127\n",
            "        pinot gris       0.37      0.84      0.51       149\n",
            "        pinot noir       0.86      0.63      0.73      4298\n",
            "          riesling       0.71      0.73      0.72      1180\n",
            "        sangiovese       0.46      0.66      0.54       401\n",
            "   sauvignon blanc       0.64      0.78      0.71       982\n",
            "             syrah       0.38      0.54      0.45       717\n",
            "       tempranillo       0.30      0.54      0.39       250\n",
            "         zinfandel       0.49      0.76      0.60       444\n",
            "\n",
            "          accuracy                           0.65     17024\n",
            "         macro avg       0.50      0.67      0.55     17024\n",
            "      weighted avg       0.73      0.65      0.67     17024\n",
            "\n",
            "----------------------------------------\n",
            "Confusion matrix\n"
          ],
          "name": "stdout"
        },
        {
          "output_type": "display_data",
          "data": {
            "image/png": "[encoded data removed]",
            "text/plain": [
              "<Figure size 720x576 with 2 Axes>"
            ]
          },
          "metadata": {
            "tags": []
          }
        }
      ]
    },
    {
      "cell_type": "code",
      "metadata": {
        "id": "xXRtmjcNwf4l",
        "colab_type": "code",
        "colab": {}
      },
      "source": [
        "test_data=data_input"
      ],
      "execution_count": 0,
      "outputs": []
    },
    {
      "cell_type": "code",
      "metadata": {
        "id": "RT1XDW4mrxUe",
        "colab_type": "code",
        "colab": {}
      },
      "source": [
        "#dealing with imbalanced datset "
      ],
      "execution_count": 0,
      "outputs": []
    },
    {
      "cell_type": "code",
      "metadata": {
        "id": "Yn1oA-epuKMO",
        "colab_type": "code",
        "colab": {
          "base_uri": "https://localhost:8080/",
          "height": 105
        },
        "outputId": "64a29155-bcb7-49df-ad42-d83e40eac957"
      },
      "source": [
        "from imblearn.under_sampling import RandomUnderSampler\n",
        "from imblearn.over_sampling import RandomOverSampler\n",
        "from collections import Counter\n",
        "from imblearn.over_sampling import SMOTE  \n",
        "from imblearn.pipeline import Pipeline as imbPipeline"
      ],
      "execution_count": 85,
      "outputs": [
        {
          "output_type": "stream",
          "text": [
            "/usr/local/lib/python3.6/dist-packages/sklearn/externals/six.py:31: FutureWarning: The module is deprecated in version 0.21 and will be removed in version 0.23 since we've dropped support for Python 2.7. Please rely on the official version of six (https://pypi.org/project/six/).\n",
            "  \"(https://pypi.org/project/six/).\", FutureWarning)\n",
            "/usr/local/lib/python3.6/dist-packages/sklearn/utils/deprecation.py:144: FutureWarning: The sklearn.neighbors.base module is  deprecated in version 0.22 and will be removed in version 0.24. The corresponding classes / functions should instead be imported from sklearn.neighbors. Anything that cannot be imported from sklearn.neighbors is now part of the private API.\n",
            "  warnings.warn(message, FutureWarning)\n"
          ],
          "name": "stderr"
        }
      ]
    },
    {
      "cell_type": "code",
      "metadata": {
        "id": "I0xRia7ruL3e",
        "colab_type": "code",
        "colab": {}
      },
      "source": [
        "clf = XGBClassifier(random_state=42, seed=2, colsample_bytree=0.6, subsample=0.7, \n",
        "                    n_estimators=300)\n",
        "sm = SMOTE(random_state=42, sampling_strategy='auto')\n",
        "pipe = imbPipeline([('feats', feats),\n",
        "                    ('smote', sm),\n",
        "                    ('clf',clf)\n",
        "                 ])"
      ],
      "execution_count": 0,
      "outputs": []
    },
    {
      "cell_type": "code",
      "metadata": {
        "id": "7_C7kQeSuQKe",
        "colab_type": "code",
        "colab": {
          "base_uri": "https://localhost:8080/",
          "height": 530
        },
        "outputId": "57ee831f-e9b8-4c9a-a88a-2740c7cdaecd"
      },
      "source": [
        "pipe.fit(X_train, y_train)\n"
      ],
      "execution_count": 87,
      "outputs": [
        {
          "output_type": "stream",
          "text": [
            "/usr/local/lib/python3.6/dist-packages/sklearn/utils/deprecation.py:87: FutureWarning: Function safe_indexing is deprecated; safe_indexing is deprecated in version 0.22 and will be removed in version 0.24.\n",
            "  warnings.warn(msg, category=FutureWarning)\n"
          ],
          "name": "stderr"
        },
        {
          "output_type": "execute_result",
          "data": {
            "text/plain": [
              "Pipeline(memory=None,\n",
              "         steps=[('feats',\n",
              "                 FeatureUnion(n_jobs=None,\n",
              "                              transformer_list=[('review_description',\n",
              "                                                 Pipeline(memory=None,\n",
              "                                                          steps=[('selector',\n",
              "                                                                  TextSelector(key='review_description')),\n",
              "                                                                 ('vectorizer',\n",
              "                                                                  TfidfVectorizer(analyzer='word',\n",
              "                                                                                  binary=False,\n",
              "                                                                                  decode_error='strict',\n",
              "                                                                                  dtype=<class 'numpy.float64'>,\n",
              "                                                                                  encoding='utf-8',\n",
              "                                                                                  input='content',\n",
              "                                                                                  lowercase=True,\n",
              "                                                                                  max_df=1.0...\n",
              "                 XGBClassifier(base_score=0.5, booster='gbtree',\n",
              "                               colsample_bylevel=1, colsample_bynode=1,\n",
              "                               colsample_bytree=0.6, gamma=0, learning_rate=0.1,\n",
              "                               max_delta_step=0, max_depth=3,\n",
              "                               min_child_weight=1, missing=None,\n",
              "                               n_estimators=300, n_jobs=1, nthread=None,\n",
              "                               objective='multi:softprob', random_state=42,\n",
              "                               reg_alpha=0, reg_lambda=1, scale_pos_weight=1,\n",
              "                               seed=2, silent=None, subsample=0.7,\n",
              "                               verbosity=1))],\n",
              "         verbose=False)"
            ]
          },
          "metadata": {
            "tags": []
          },
          "execution_count": 87
        }
      ]
    },
    {
      "cell_type": "code",
      "metadata": {
        "id": "JTGQnURWvTmU",
        "colab_type": "code",
        "colab": {
          "base_uri": "https://localhost:8080/",
          "height": 1000
        },
        "outputId": "3da2d475-992a-4c0b-a011-ddd582d2eab0"
      },
      "source": [
        "preds = pipe.predict(X_test)\n",
        "print_stats(y_test, preds, pipe.classes_)"
      ],
      "execution_count": 89,
      "outputs": [
        {
          "output_type": "stream",
          "text": [
            "Accuracy = 0.632\n",
            "----------------------------------------\n",
            "Classification report:\n",
            "                    precision    recall  f1-score   support\n",
            "\n",
            "    cabernet franc       0.37      0.61      0.46       198\n",
            "cabernet sauvignon       0.64      0.69      0.66      2170\n",
            "        chardonnay       0.88      0.64      0.74      3773\n",
            "             gamay       0.57      0.35      0.43       333\n",
            "    gewurztraminer       0.44      0.62      0.52       175\n",
            "  gruner veltliner       0.61      0.70      0.65       237\n",
            "            malbec       0.38      0.43      0.40       567\n",
            "            merlot       0.21      0.28      0.24       574\n",
            "          nebbiolo       0.65      0.73      0.69       509\n",
            "      pinot grigio       0.49      0.70      0.58       181\n",
            "        pinot gris       0.45      0.65      0.53       235\n",
            "        pinot noir       0.79      0.65      0.71      3838\n",
            "          riesling       0.69      0.74      0.71      1144\n",
            "        sangiovese       0.44      0.64      0.52       395\n",
            "   sauvignon blanc       0.67      0.74      0.70      1084\n",
            "             syrah       0.40      0.52      0.45       784\n",
            "       tempranillo       0.30      0.47      0.36       286\n",
            "         zinfandel       0.51      0.64      0.57       541\n",
            "\n",
            "          accuracy                           0.63     17024\n",
            "         macro avg       0.53      0.60      0.55     17024\n",
            "      weighted avg       0.67      0.63      0.64     17024\n",
            "\n",
            "----------------------------------------\n",
            "Confusion matrix\n"
          ],
          "name": "stdout"
        },
        {
          "output_type": "display_data",
          "data": {
            "image/png": "[encoded data removed]",
            "text/plain": [
              "<Figure size 720x576 with 2 Axes>"
            ]
          },
          "metadata": {
            "tags": []
          }
        }
      ]
    },
    {
      "cell_type": "code",
      "metadata": {
        "id": "eNHhK-Ol29uY",
        "colab_type": "code",
        "colab": {
          "base_uri": "https://localhost:8080/",
          "height": 204
        },
        "outputId": "bcec2e54-b959-4a79-857c-b18954c328dc"
      },
      "source": [
        "X_test.head()"
      ],
      "execution_count": 111,
      "outputs": [
        {
          "output_type": "execute_result",
          "data": {
            "text/html": [
              "<div>\n",
              "<style scoped>\n",
              "    .dataframe tbody tr th:only-of-type {\n",
              "        vertical-align: middle;\n",
              "    }\n",
              "\n",
              "    .dataframe tbody tr th {\n",
              "        vertical-align: top;\n",
              "    }\n",
              "\n",
              "    .dataframe thead th {\n",
              "        text-align: right;\n",
              "    }\n",
              "</style>\n",
              "<table border=\"1\" class=\"dataframe\">\n",
              "  <thead>\n",
              "    <tr style=\"text-align: right;\">\n",
              "      <th></th>\n",
              "      <th>review_description</th>\n",
              "      <th>predictions</th>\n",
              "    </tr>\n",
              "  </thead>\n",
              "  <tbody>\n",
              "    <tr>\n",
              "      <th>40180</th>\n",
              "      <td>dusty, saffron-spiced earthiness is juxtaposed...</td>\n",
              "      <td>riesling</td>\n",
              "    </tr>\n",
              "    <tr>\n",
              "      <th>14840</th>\n",
              "      <td>strawberry tea and rose-petal aromas open this...</td>\n",
              "      <td>pinot noir</td>\n",
              "    </tr>\n",
              "    <tr>\n",
              "      <th>13383</th>\n",
              "      <td>the same bell as the well-known napa valley wi...</td>\n",
              "      <td>pinot gris</td>\n",
              "    </tr>\n",
              "    <tr>\n",
              "      <th>11679</th>\n",
              "      <td>this wine is nicely balanced and easy to drink...</td>\n",
              "      <td>sauvignon blanc</td>\n",
              "    </tr>\n",
              "    <tr>\n",
              "      <th>17800</th>\n",
              "      <td>a sturdy cab with some hard, edgy tannins that...</td>\n",
              "      <td>cabernet sauvignon</td>\n",
              "    </tr>\n",
              "  </tbody>\n",
              "</table>\n",
              "</div>"
            ],
            "text/plain": [
              "                                      review_description         predictions\n",
              "40180  dusty, saffron-spiced earthiness is juxtaposed...            riesling\n",
              "14840  strawberry tea and rose-petal aromas open this...          pinot noir\n",
              "13383  the same bell as the well-known napa valley wi...          pinot gris\n",
              "11679  this wine is nicely balanced and easy to drink...     sauvignon blanc\n",
              "17800  a sturdy cab with some hard, edgy tannins that...  cabernet sauvignon"
            ]
          },
          "metadata": {
            "tags": []
          },
          "execution_count": 111
        }
      ]
    },
    {
      "cell_type": "code",
      "metadata": {
        "id": "5pduUqkVv50m",
        "colab_type": "code",
        "colab": {}
      },
      "source": [
        "X_test['predictions'] = preds\n",
        "X_test.to_csv('drive/My Drive/Knight/Data/submission.csv')"
      ],
      "execution_count": 0,
      "outputs": []
    },
    {
      "cell_type": "code",
      "metadata": {
        "id": "Nvf6ZP28gsil",
        "colab_type": "code",
        "colab": {}
      },
      "source": [
        "param_grid = {\n",
        "     'clf__n_estimators': [50,100,300]\n",
        "}"
      ],
      "execution_count": 0,
      "outputs": []
    },
    {
      "cell_type": "code",
      "metadata": {
        "id": "bxYGk7qjg0U0",
        "colab_type": "code",
        "colab": {}
      },
      "source": [
        "grid_search = GridSearchCV(estimator = pipe, param_grid = param_grid, \n",
        "                          cv = 3, n_jobs = 1, verbose = 0, return_train_score=True)"
      ],
      "execution_count": 0,
      "outputs": []
    },
    {
      "cell_type": "code",
      "metadata": {
        "id": "yffw17SphiAW",
        "colab_type": "code",
        "colab": {
          "base_uri": "https://localhost:8080/",
          "height": 68
        },
        "outputId": "40b73c3b-cd04-466f-fba6-9d041fdccbff"
      },
      "source": [
        "import nltk\n",
        "nltk.download('punkt')"
      ],
      "execution_count": 65,
      "outputs": [
        {
          "output_type": "stream",
          "text": [
            "[nltk_data] Downloading package punkt to /root/nltk_data...\n",
            "[nltk_data]   Unzipping tokenizers/punkt.zip.\n"
          ],
          "name": "stdout"
        },
        {
          "output_type": "execute_result",
          "data": {
            "text/plain": [
              "True"
            ]
          },
          "metadata": {
            "tags": []
          },
          "execution_count": 65
        }
      ]
    },
    {
      "cell_type": "code",
      "metadata": {
        "id": "2cRgLEMwhosc",
        "colab_type": "code",
        "colab": {
          "base_uri": "https://localhost:8080/",
          "height": 136
        },
        "outputId": "04dfe0af-5258-4918-ecc9-a5bb7f7a87cd"
      },
      "source": [
        "nltk.download('averaged_perceptron_tagger')\n",
        "nltk.download('wordnet')"
      ],
      "execution_count": 69,
      "outputs": [
        {
          "output_type": "stream",
          "text": [
            "[nltk_data] Downloading package averaged_perceptron_tagger to\n",
            "[nltk_data]     /root/nltk_data...\n",
            "[nltk_data]   Package averaged_perceptron_tagger is already up-to-\n",
            "[nltk_data]       date!\n",
            "[nltk_data] Downloading package wordnet to /root/nltk_data...\n",
            "[nltk_data]   Unzipping corpora/wordnet.zip.\n"
          ],
          "name": "stdout"
        },
        {
          "output_type": "execute_result",
          "data": {
            "text/plain": [
              "True"
            ]
          },
          "metadata": {
            "tags": []
          },
          "execution_count": 69
        }
      ]
    },
    {
      "cell_type": "code",
      "metadata": {
        "id": "0NatiecMhGKg",
        "colab_type": "code",
        "colab": {}
      },
      "source": [
        "grid_search.fit(X_train, y_train)\n"
      ],
      "execution_count": 0,
      "outputs": []
    }
  ]
}